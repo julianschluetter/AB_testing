{
 "cells": [
  {
   "cell_type": "markdown",
   "id": "c24cbf4b",
   "metadata": {},
   "source": [
    "# A/B testing"
   ]
  },
  {
   "cell_type": "markdown",
   "id": "40be5c12",
   "metadata": {},
   "source": [
    "### Main goal of the research:\n",
    "\n",
    "The main goal is to evaluate if the new payment funnel of the international online store is leading to a higher conversion rate. \n",
    "The online store expects an increase of at least 10% in conversion on all stages within 14 days."
   ]
  },
  {
   "cell_type": "code",
   "execution_count": 1,
   "id": "292acd44",
   "metadata": {},
   "outputs": [],
   "source": [
    "# importing libraries\n",
    "import numpy as np\n",
    "import pandas as pd\n",
    "import matplotlib.pyplot as plt\n",
    "import seaborn as sb\n",
    "np.random.seed(42)"
   ]
  },
  {
   "cell_type": "code",
   "execution_count": 2,
   "id": "6414e20f",
   "metadata": {},
   "outputs": [],
   "source": [
    "# getting the data\n",
    "marketing_events = pd.read_csv('ab_project_marketing_events_us.csv')\n",
    "users = pd.read_csv('final_ab_new_users_upd_us.csv')\n",
    "user_events = pd.read_csv('final_ab_events_upd_us.csv')\n",
    "participants = pd.read_csv('final_ab_participants_upd_us.csv')"
   ]
  },
  {
   "cell_type": "markdown",
   "id": "4b6ecb8c",
   "metadata": {},
   "source": [
    "## 1. Data Exploration"
   ]
  },
  {
   "cell_type": "markdown",
   "id": "8ffe2643",
   "metadata": {},
   "source": [
    "##### 1.1 Exploring marketing_events"
   ]
  },
  {
   "cell_type": "code",
   "execution_count": 3,
   "id": "4dfc5969",
   "metadata": {},
   "outputs": [
    {
     "data": {
      "text/html": [
       "<div>\n",
       "<style scoped>\n",
       "    .dataframe tbody tr th:only-of-type {\n",
       "        vertical-align: middle;\n",
       "    }\n",
       "\n",
       "    .dataframe tbody tr th {\n",
       "        vertical-align: top;\n",
       "    }\n",
       "\n",
       "    .dataframe thead th {\n",
       "        text-align: right;\n",
       "    }\n",
       "</style>\n",
       "<table border=\"1\" class=\"dataframe\">\n",
       "  <thead>\n",
       "    <tr style=\"text-align: right;\">\n",
       "      <th></th>\n",
       "      <th>name</th>\n",
       "      <th>regions</th>\n",
       "      <th>start_dt</th>\n",
       "      <th>finish_dt</th>\n",
       "    </tr>\n",
       "  </thead>\n",
       "  <tbody>\n",
       "    <tr>\n",
       "      <th>0</th>\n",
       "      <td>Christmas&amp;New Year Promo</td>\n",
       "      <td>EU, N.America</td>\n",
       "      <td>2020-12-25</td>\n",
       "      <td>2021-01-03</td>\n",
       "    </tr>\n",
       "    <tr>\n",
       "      <th>1</th>\n",
       "      <td>St. Valentine's Day Giveaway</td>\n",
       "      <td>EU, CIS, APAC, N.America</td>\n",
       "      <td>2020-02-14</td>\n",
       "      <td>2020-02-16</td>\n",
       "    </tr>\n",
       "    <tr>\n",
       "      <th>2</th>\n",
       "      <td>St. Patric's Day Promo</td>\n",
       "      <td>EU, N.America</td>\n",
       "      <td>2020-03-17</td>\n",
       "      <td>2020-03-19</td>\n",
       "    </tr>\n",
       "    <tr>\n",
       "      <th>3</th>\n",
       "      <td>Easter Promo</td>\n",
       "      <td>EU, CIS, APAC, N.America</td>\n",
       "      <td>2020-04-12</td>\n",
       "      <td>2020-04-19</td>\n",
       "    </tr>\n",
       "    <tr>\n",
       "      <th>4</th>\n",
       "      <td>4th of July Promo</td>\n",
       "      <td>N.America</td>\n",
       "      <td>2020-07-04</td>\n",
       "      <td>2020-07-11</td>\n",
       "    </tr>\n",
       "  </tbody>\n",
       "</table>\n",
       "</div>"
      ],
      "text/plain": [
       "                           name                   regions    start_dt  \\\n",
       "0      Christmas&New Year Promo             EU, N.America  2020-12-25   \n",
       "1  St. Valentine's Day Giveaway  EU, CIS, APAC, N.America  2020-02-14   \n",
       "2        St. Patric's Day Promo             EU, N.America  2020-03-17   \n",
       "3                  Easter Promo  EU, CIS, APAC, N.America  2020-04-12   \n",
       "4             4th of July Promo                 N.America  2020-07-04   \n",
       "\n",
       "    finish_dt  \n",
       "0  2021-01-03  \n",
       "1  2020-02-16  \n",
       "2  2020-03-19  \n",
       "3  2020-04-19  \n",
       "4  2020-07-11  "
      ]
     },
     "execution_count": 3,
     "metadata": {},
     "output_type": "execute_result"
    }
   ],
   "source": [
    "#first 5 rows to get an overview\n",
    "marketing_events.head()"
   ]
  },
  {
   "cell_type": "code",
   "execution_count": 4,
   "id": "adcc4bf2",
   "metadata": {},
   "outputs": [
    {
     "name": "stdout",
     "output_type": "stream",
     "text": [
      "<class 'pandas.core.frame.DataFrame'>\n",
      "RangeIndex: 14 entries, 0 to 13\n",
      "Data columns (total 4 columns):\n",
      " #   Column     Non-Null Count  Dtype \n",
      "---  ------     --------------  ----- \n",
      " 0   name       14 non-null     object\n",
      " 1   regions    14 non-null     object\n",
      " 2   start_dt   14 non-null     object\n",
      " 3   finish_dt  14 non-null     object\n",
      "dtypes: object(4)\n",
      "memory usage: 576.0+ bytes\n"
     ]
    }
   ],
   "source": [
    "#evaluating Dtypes and size\n",
    "marketing_events.info()"
   ]
  },
  {
   "cell_type": "code",
   "execution_count": 5,
   "id": "0f59ddee",
   "metadata": {},
   "outputs": [],
   "source": [
    "# changing Dtypes of start and finish to datetime\n",
    "marketing_events['start_dt'] = pd.to_datetime(marketing_events['start_dt'])\n",
    "marketing_events['finish_dt'] = pd.to_datetime(marketing_events['finish_dt'])"
   ]
  },
  {
   "cell_type": "code",
   "execution_count": 6,
   "id": "6cb1cf28",
   "metadata": {},
   "outputs": [
    {
     "data": {
      "text/plain": [
       "name         0\n",
       "regions      0\n",
       "start_dt     0\n",
       "finish_dt    0\n",
       "dtype: int64"
      ]
     },
     "execution_count": 6,
     "metadata": {},
     "output_type": "execute_result"
    }
   ],
   "source": [
    "#checking for missing values\n",
    "marketing_events.isnull().sum()"
   ]
  },
  {
   "cell_type": "code",
   "execution_count": 7,
   "id": "1ef8b264",
   "metadata": {},
   "outputs": [
    {
     "data": {
      "text/plain": [
       "0"
      ]
     },
     "execution_count": 7,
     "metadata": {},
     "output_type": "execute_result"
    }
   ],
   "source": [
    "#checking for completely duplicate rows\n",
    "marketing_events.duplicated().sum()"
   ]
  },
  {
   "cell_type": "code",
   "execution_count": 8,
   "id": "c3effb5f",
   "metadata": {},
   "outputs": [
    {
     "data": {
      "text/html": [
       "<div>\n",
       "<style scoped>\n",
       "    .dataframe tbody tr th:only-of-type {\n",
       "        vertical-align: middle;\n",
       "    }\n",
       "\n",
       "    .dataframe tbody tr th {\n",
       "        vertical-align: top;\n",
       "    }\n",
       "\n",
       "    .dataframe thead th {\n",
       "        text-align: right;\n",
       "    }\n",
       "</style>\n",
       "<table border=\"1\" class=\"dataframe\">\n",
       "  <thead>\n",
       "    <tr style=\"text-align: right;\">\n",
       "      <th></th>\n",
       "      <th>name</th>\n",
       "      <th>regions</th>\n",
       "      <th>start_dt</th>\n",
       "      <th>finish_dt</th>\n",
       "    </tr>\n",
       "  </thead>\n",
       "  <tbody>\n",
       "    <tr>\n",
       "      <th>6</th>\n",
       "      <td>Chinese New Year Promo</td>\n",
       "      <td>APAC</td>\n",
       "      <td>2020-01-25</td>\n",
       "      <td>2020-02-07</td>\n",
       "    </tr>\n",
       "    <tr>\n",
       "      <th>1</th>\n",
       "      <td>St. Valentine's Day Giveaway</td>\n",
       "      <td>EU, CIS, APAC, N.America</td>\n",
       "      <td>2020-02-14</td>\n",
       "      <td>2020-02-16</td>\n",
       "    </tr>\n",
       "    <tr>\n",
       "      <th>8</th>\n",
       "      <td>International Women's Day Promo</td>\n",
       "      <td>EU, CIS, APAC</td>\n",
       "      <td>2020-03-08</td>\n",
       "      <td>2020-03-10</td>\n",
       "    </tr>\n",
       "    <tr>\n",
       "      <th>2</th>\n",
       "      <td>St. Patric's Day Promo</td>\n",
       "      <td>EU, N.America</td>\n",
       "      <td>2020-03-17</td>\n",
       "      <td>2020-03-19</td>\n",
       "    </tr>\n",
       "    <tr>\n",
       "      <th>3</th>\n",
       "      <td>Easter Promo</td>\n",
       "      <td>EU, CIS, APAC, N.America</td>\n",
       "      <td>2020-04-12</td>\n",
       "      <td>2020-04-19</td>\n",
       "    </tr>\n",
       "  </tbody>\n",
       "</table>\n",
       "</div>"
      ],
      "text/plain": [
       "                              name                   regions   start_dt  \\\n",
       "6           Chinese New Year Promo                      APAC 2020-01-25   \n",
       "1     St. Valentine's Day Giveaway  EU, CIS, APAC, N.America 2020-02-14   \n",
       "8  International Women's Day Promo             EU, CIS, APAC 2020-03-08   \n",
       "2           St. Patric's Day Promo             EU, N.America 2020-03-17   \n",
       "3                     Easter Promo  EU, CIS, APAC, N.America 2020-04-12   \n",
       "\n",
       "   finish_dt  \n",
       "6 2020-02-07  \n",
       "1 2020-02-16  \n",
       "8 2020-03-10  \n",
       "2 2020-03-19  \n",
       "3 2020-04-19  "
      ]
     },
     "execution_count": 8,
     "metadata": {},
     "output_type": "execute_result"
    }
   ],
   "source": [
    "#order events chronologically\n",
    "marketing_events = marketing_events.sort_values('start_dt')\n",
    "marketing_events.head()"
   ]
  },
  {
   "cell_type": "markdown",
   "id": "785e8cd9",
   "metadata": {},
   "source": [
    "##### 1.2 Exploring users"
   ]
  },
  {
   "cell_type": "code",
   "execution_count": 9,
   "id": "224434a0",
   "metadata": {},
   "outputs": [
    {
     "data": {
      "text/html": [
       "<div>\n",
       "<style scoped>\n",
       "    .dataframe tbody tr th:only-of-type {\n",
       "        vertical-align: middle;\n",
       "    }\n",
       "\n",
       "    .dataframe tbody tr th {\n",
       "        vertical-align: top;\n",
       "    }\n",
       "\n",
       "    .dataframe thead th {\n",
       "        text-align: right;\n",
       "    }\n",
       "</style>\n",
       "<table border=\"1\" class=\"dataframe\">\n",
       "  <thead>\n",
       "    <tr style=\"text-align: right;\">\n",
       "      <th></th>\n",
       "      <th>user_id</th>\n",
       "      <th>first_date</th>\n",
       "      <th>region</th>\n",
       "      <th>device</th>\n",
       "    </tr>\n",
       "  </thead>\n",
       "  <tbody>\n",
       "    <tr>\n",
       "      <th>0</th>\n",
       "      <td>D72A72121175D8BE</td>\n",
       "      <td>2020-12-07</td>\n",
       "      <td>EU</td>\n",
       "      <td>PC</td>\n",
       "    </tr>\n",
       "    <tr>\n",
       "      <th>1</th>\n",
       "      <td>F1C668619DFE6E65</td>\n",
       "      <td>2020-12-07</td>\n",
       "      <td>N.America</td>\n",
       "      <td>Android</td>\n",
       "    </tr>\n",
       "    <tr>\n",
       "      <th>2</th>\n",
       "      <td>2E1BF1D4C37EA01F</td>\n",
       "      <td>2020-12-07</td>\n",
       "      <td>EU</td>\n",
       "      <td>PC</td>\n",
       "    </tr>\n",
       "    <tr>\n",
       "      <th>3</th>\n",
       "      <td>50734A22C0C63768</td>\n",
       "      <td>2020-12-07</td>\n",
       "      <td>EU</td>\n",
       "      <td>iPhone</td>\n",
       "    </tr>\n",
       "    <tr>\n",
       "      <th>4</th>\n",
       "      <td>E1BDDCE0DAFA2679</td>\n",
       "      <td>2020-12-07</td>\n",
       "      <td>N.America</td>\n",
       "      <td>iPhone</td>\n",
       "    </tr>\n",
       "  </tbody>\n",
       "</table>\n",
       "</div>"
      ],
      "text/plain": [
       "            user_id  first_date     region   device\n",
       "0  D72A72121175D8BE  2020-12-07         EU       PC\n",
       "1  F1C668619DFE6E65  2020-12-07  N.America  Android\n",
       "2  2E1BF1D4C37EA01F  2020-12-07         EU       PC\n",
       "3  50734A22C0C63768  2020-12-07         EU   iPhone\n",
       "4  E1BDDCE0DAFA2679  2020-12-07  N.America   iPhone"
      ]
     },
     "execution_count": 9,
     "metadata": {},
     "output_type": "execute_result"
    }
   ],
   "source": [
    "# first 5 rows to get an overview\n",
    "users.head()"
   ]
  },
  {
   "cell_type": "code",
   "execution_count": 10,
   "id": "55f56783",
   "metadata": {},
   "outputs": [
    {
     "name": "stdout",
     "output_type": "stream",
     "text": [
      "<class 'pandas.core.frame.DataFrame'>\n",
      "RangeIndex: 58703 entries, 0 to 58702\n",
      "Data columns (total 4 columns):\n",
      " #   Column      Non-Null Count  Dtype \n",
      "---  ------      --------------  ----- \n",
      " 0   user_id     58703 non-null  object\n",
      " 1   first_date  58703 non-null  object\n",
      " 2   region      58703 non-null  object\n",
      " 3   device      58703 non-null  object\n",
      "dtypes: object(4)\n",
      "memory usage: 1.8+ MB\n"
     ]
    }
   ],
   "source": [
    "#evaluating Dtypes and size\n",
    "users.info()"
   ]
  },
  {
   "cell_type": "code",
   "execution_count": 11,
   "id": "4810056b",
   "metadata": {},
   "outputs": [],
   "source": [
    "#changing first_date column to datetime and region and device to categorical type\n",
    "users['first_date'] = pd.to_datetime(users['first_date'])\n",
    "users['region'] = users['region'].astype('category')\n",
    "users['device'] = users['device'].astype('category')"
   ]
  },
  {
   "cell_type": "code",
   "execution_count": 12,
   "id": "6e960e3c",
   "metadata": {},
   "outputs": [
    {
     "data": {
      "text/plain": [
       "user_id       0\n",
       "first_date    0\n",
       "region        0\n",
       "device        0\n",
       "dtype: int64"
      ]
     },
     "execution_count": 12,
     "metadata": {},
     "output_type": "execute_result"
    }
   ],
   "source": [
    "#checking for missing values\n",
    "users.isnull().sum()"
   ]
  },
  {
   "cell_type": "code",
   "execution_count": 13,
   "id": "e58744d6",
   "metadata": {},
   "outputs": [
    {
     "data": {
      "text/plain": [
       "0"
      ]
     },
     "execution_count": 13,
     "metadata": {},
     "output_type": "execute_result"
    }
   ],
   "source": [
    "#checking for completely duplicate rows\n",
    "users.duplicated().sum()"
   ]
  },
  {
   "cell_type": "markdown",
   "id": "e1b88ffb",
   "metadata": {},
   "source": [
    "##### 1.3 Exploring user_events"
   ]
  },
  {
   "cell_type": "code",
   "execution_count": 14,
   "id": "dd22f2f3",
   "metadata": {},
   "outputs": [
    {
     "data": {
      "text/html": [
       "<div>\n",
       "<style scoped>\n",
       "    .dataframe tbody tr th:only-of-type {\n",
       "        vertical-align: middle;\n",
       "    }\n",
       "\n",
       "    .dataframe tbody tr th {\n",
       "        vertical-align: top;\n",
       "    }\n",
       "\n",
       "    .dataframe thead th {\n",
       "        text-align: right;\n",
       "    }\n",
       "</style>\n",
       "<table border=\"1\" class=\"dataframe\">\n",
       "  <thead>\n",
       "    <tr style=\"text-align: right;\">\n",
       "      <th></th>\n",
       "      <th>user_id</th>\n",
       "      <th>event_dt</th>\n",
       "      <th>event_name</th>\n",
       "      <th>details</th>\n",
       "    </tr>\n",
       "  </thead>\n",
       "  <tbody>\n",
       "    <tr>\n",
       "      <th>0</th>\n",
       "      <td>E1BDDCE0DAFA2679</td>\n",
       "      <td>2020-12-07 20:22:03</td>\n",
       "      <td>purchase</td>\n",
       "      <td>99.99</td>\n",
       "    </tr>\n",
       "    <tr>\n",
       "      <th>1</th>\n",
       "      <td>7B6452F081F49504</td>\n",
       "      <td>2020-12-07 09:22:53</td>\n",
       "      <td>purchase</td>\n",
       "      <td>9.99</td>\n",
       "    </tr>\n",
       "    <tr>\n",
       "      <th>2</th>\n",
       "      <td>9CD9F34546DF254C</td>\n",
       "      <td>2020-12-07 12:59:29</td>\n",
       "      <td>purchase</td>\n",
       "      <td>4.99</td>\n",
       "    </tr>\n",
       "    <tr>\n",
       "      <th>3</th>\n",
       "      <td>96F27A054B191457</td>\n",
       "      <td>2020-12-07 04:02:40</td>\n",
       "      <td>purchase</td>\n",
       "      <td>4.99</td>\n",
       "    </tr>\n",
       "    <tr>\n",
       "      <th>4</th>\n",
       "      <td>1FD7660FDF94CA1F</td>\n",
       "      <td>2020-12-07 10:15:09</td>\n",
       "      <td>purchase</td>\n",
       "      <td>4.99</td>\n",
       "    </tr>\n",
       "  </tbody>\n",
       "</table>\n",
       "</div>"
      ],
      "text/plain": [
       "            user_id             event_dt event_name  details\n",
       "0  E1BDDCE0DAFA2679  2020-12-07 20:22:03   purchase    99.99\n",
       "1  7B6452F081F49504  2020-12-07 09:22:53   purchase     9.99\n",
       "2  9CD9F34546DF254C  2020-12-07 12:59:29   purchase     4.99\n",
       "3  96F27A054B191457  2020-12-07 04:02:40   purchase     4.99\n",
       "4  1FD7660FDF94CA1F  2020-12-07 10:15:09   purchase     4.99"
      ]
     },
     "execution_count": 14,
     "metadata": {},
     "output_type": "execute_result"
    }
   ],
   "source": [
    "#first 5 rows to get an overview\n",
    "user_events.head()"
   ]
  },
  {
   "cell_type": "code",
   "execution_count": 15,
   "id": "eba6419a",
   "metadata": {},
   "outputs": [
    {
     "name": "stdout",
     "output_type": "stream",
     "text": [
      "<class 'pandas.core.frame.DataFrame'>\n",
      "RangeIndex: 423761 entries, 0 to 423760\n",
      "Data columns (total 4 columns):\n",
      " #   Column      Non-Null Count   Dtype  \n",
      "---  ------      --------------   -----  \n",
      " 0   user_id     423761 non-null  object \n",
      " 1   event_dt    423761 non-null  object \n",
      " 2   event_name  423761 non-null  object \n",
      " 3   details     60314 non-null   float64\n",
      "dtypes: float64(1), object(3)\n",
      "memory usage: 12.9+ MB\n"
     ]
    }
   ],
   "source": [
    "#evaluating Dtypes and size\n",
    "user_events.info()"
   ]
  },
  {
   "cell_type": "code",
   "execution_count": 16,
   "id": "02044735",
   "metadata": {},
   "outputs": [],
   "source": [
    "#changing event_dt object to datetime and event_name to category\n",
    "user_events['event_dt'] = pd.to_datetime(user_events['event_dt'])\n",
    "user_events['event_name'] = user_events['event_name'].astype('category')"
   ]
  },
  {
   "cell_type": "code",
   "execution_count": 17,
   "id": "69c43f3e",
   "metadata": {},
   "outputs": [
    {
     "data": {
      "text/plain": [
       "user_id            0\n",
       "event_dt           0\n",
       "event_name         0\n",
       "details       363447\n",
       "dtype: int64"
      ]
     },
     "execution_count": 17,
     "metadata": {},
     "output_type": "execute_result"
    }
   ],
   "source": [
    "# checking for missing values\n",
    "user_events.isnull().sum()"
   ]
  },
  {
   "cell_type": "code",
   "execution_count": 18,
   "id": "79c750b1",
   "metadata": {},
   "outputs": [
    {
     "data": {
      "text/plain": [
       "login           182465\n",
       "product_page    120862\n",
       "purchase         60314\n",
       "product_cart     60120\n",
       "Name: event_name, dtype: int64"
      ]
     },
     "execution_count": 18,
     "metadata": {},
     "output_type": "execute_result"
    }
   ],
   "source": [
    "# origin of missing values\n",
    "user_events['event_name'].value_counts()"
   ]
  },
  {
   "cell_type": "markdown",
   "id": "0a36abbe",
   "metadata": {},
   "source": [
    "Only the purchase events have details displayed, in this case it is the price in USD. As all other events are non-cash, missing values are displayed. We will leave the column as it is. It does not make sense to delete the missing values because of their importance and because there are so many missing values. Replacing the NaN values by 0 would manipualte any calculations on the details column (e.g. average price etc.)."
   ]
  },
  {
   "cell_type": "code",
   "execution_count": 19,
   "id": "624123bf",
   "metadata": {},
   "outputs": [
    {
     "data": {
      "text/plain": [
       "0"
      ]
     },
     "execution_count": 19,
     "metadata": {},
     "output_type": "execute_result"
    }
   ],
   "source": [
    "#checking for completely duplicate rows\n",
    "user_events.duplicated().sum()"
   ]
  },
  {
   "cell_type": "markdown",
   "id": "217208df",
   "metadata": {},
   "source": [
    "##### 1.4 Exploring participants"
   ]
  },
  {
   "cell_type": "code",
   "execution_count": 20,
   "id": "938050fa",
   "metadata": {},
   "outputs": [
    {
     "data": {
      "text/html": [
       "<div>\n",
       "<style scoped>\n",
       "    .dataframe tbody tr th:only-of-type {\n",
       "        vertical-align: middle;\n",
       "    }\n",
       "\n",
       "    .dataframe tbody tr th {\n",
       "        vertical-align: top;\n",
       "    }\n",
       "\n",
       "    .dataframe thead th {\n",
       "        text-align: right;\n",
       "    }\n",
       "</style>\n",
       "<table border=\"1\" class=\"dataframe\">\n",
       "  <thead>\n",
       "    <tr style=\"text-align: right;\">\n",
       "      <th></th>\n",
       "      <th>user_id</th>\n",
       "      <th>group</th>\n",
       "      <th>ab_test</th>\n",
       "    </tr>\n",
       "  </thead>\n",
       "  <tbody>\n",
       "    <tr>\n",
       "      <th>9349</th>\n",
       "      <td>E0F6A9ACBA17FFA1</td>\n",
       "      <td>B</td>\n",
       "      <td>interface_eu_test</td>\n",
       "    </tr>\n",
       "  </tbody>\n",
       "</table>\n",
       "</div>"
      ],
      "text/plain": [
       "               user_id group            ab_test\n",
       "9349  E0F6A9ACBA17FFA1     B  interface_eu_test"
      ]
     },
     "execution_count": 20,
     "metadata": {},
     "output_type": "execute_result"
    }
   ],
   "source": [
    "#first 5 rows to get an overview\n",
    "participants.head()"
   ]
  },
  {
   "cell_type": "code",
   "execution_count": 21,
   "id": "0c29ce69",
   "metadata": {},
   "outputs": [
    {
     "name": "stdout",
     "output_type": "stream",
     "text": [
      "<class 'pandas.core.frame.DataFrame'>\n",
      "RangeIndex: 14525 entries, 0 to 14524\n",
      "Data columns (total 3 columns):\n",
      " #   Column   Non-Null Count  Dtype \n",
      "---  ------   --------------  ----- \n",
      " 0   user_id  14525 non-null  object\n",
      " 1   group    14525 non-null  object\n",
      " 2   ab_test  14525 non-null  object\n",
      "dtypes: object(3)\n",
      "memory usage: 340.6+ KB\n"
     ]
    }
   ],
   "source": [
    "#checking for Dtypes and size\n",
    "participants.info()"
   ]
  },
  {
   "cell_type": "code",
   "execution_count": 22,
   "id": "69f22cb8",
   "metadata": {},
   "outputs": [],
   "source": [
    "# changing group and ab_test to categorical datatypes\n",
    "participants['group'] = participants['group'].astype('category')\n",
    "participants['ab_test'] = participants['ab_test'].astype('category')"
   ]
  },
  {
   "cell_type": "code",
   "execution_count": 23,
   "id": "a9130092",
   "metadata": {},
   "outputs": [
    {
     "data": {
      "text/plain": [
       "user_id    0\n",
       "group      0\n",
       "ab_test    0\n",
       "dtype: int64"
      ]
     },
     "execution_count": 23,
     "metadata": {},
     "output_type": "execute_result"
    }
   ],
   "source": [
    "# checking for missing values\n",
    "participants.isnull().sum()"
   ]
  },
  {
   "cell_type": "code",
   "execution_count": 24,
   "id": "e6b3b0aa",
   "metadata": {},
   "outputs": [
    {
     "data": {
      "text/plain": [
       "0"
      ]
     },
     "execution_count": 24,
     "metadata": {},
     "output_type": "execute_result"
    }
   ],
   "source": [
    "#checking for completely duplicate rows\n",
    "participants.duplicated().sum()"
   ]
  },
  {
   "cell_type": "code",
   "execution_count": 25,
   "id": "2162a048",
   "metadata": {},
   "outputs": [
    {
     "data": {
      "text/plain": [
       "887"
      ]
     },
     "execution_count": 25,
     "metadata": {},
     "output_type": "execute_result"
    }
   ],
   "source": [
    "# checking for duplicate user ids\n",
    "participants['user_id'].duplicated().sum()"
   ]
  },
  {
   "cell_type": "code",
   "execution_count": 26,
   "id": "c02879d8",
   "metadata": {},
   "outputs": [
    {
     "data": {
      "text/plain": [
       "307C06C0E6F09B93    2\n",
       "74C5CCDA7DF761EE    2\n",
       "6445624A3AE163E6    2\n",
       "3A6D88AB973BD99D    2\n",
       "C1E43A9B1D675927    2\n",
       "                   ..\n",
       "B39C1D7760CF809C    1\n",
       "4E6C94A7969F5079    1\n",
       "7EEEA8AA76EC8703    1\n",
       "9EC259921F8521B1    1\n",
       "79F9ABFB029CF724    1\n",
       "Name: user_id, Length: 13638, dtype: int64"
      ]
     },
     "execution_count": 26,
     "metadata": {},
     "output_type": "execute_result"
    }
   ],
   "source": [
    "# checking for the maximum number a user_id appears\n",
    "participants['user_id'].value_counts()"
   ]
  },
  {
   "cell_type": "code",
   "execution_count": 27,
   "id": "c42b2171",
   "metadata": {},
   "outputs": [
    {
     "data": {
      "text/plain": [
       "0"
      ]
     },
     "execution_count": 27,
     "metadata": {},
     "output_type": "execute_result"
    }
   ],
   "source": [
    "# checking if the duplicate user_ids are in different samples or in the same sample\n",
    "p1 = participants.query('ab_test == \"recommender_system_test\"')\n",
    "p1['user_id'].duplicated().sum()"
   ]
  },
  {
   "cell_type": "code",
   "execution_count": 28,
   "id": "a752a57b",
   "metadata": {},
   "outputs": [
    {
     "data": {
      "text/plain": [
       "0"
      ]
     },
     "execution_count": 28,
     "metadata": {},
     "output_type": "execute_result"
    }
   ],
   "source": [
    "# checking if the duplicate user_ids are in different samples or in the same sample\n",
    "p2 = participants.query('ab_test == \"interface_eu_test\"')\n",
    "p2['user_id'].duplicated().sum()"
   ]
  },
  {
   "cell_type": "markdown",
   "id": "fce1a3fd",
   "metadata": {},
   "source": [
    "We could see that there are 887 duplicate user ids. Luckily, there are only distinct user ids per sample. It would have been mre problematic if there was the same user id in group A and group B of the same test."
   ]
  },
  {
   "cell_type": "markdown",
   "id": "9e47c308",
   "metadata": {},
   "source": [
    "## 2. Analysis"
   ]
  },
  {
   "cell_type": "markdown",
   "id": "605bbf1d",
   "metadata": {},
   "source": [
    "##### 2.1 Analyzing marketing_events"
   ]
  },
  {
   "cell_type": "code",
   "execution_count": 29,
   "id": "c986f661",
   "metadata": {},
   "outputs": [
    {
     "data": {
      "text/html": [
       "<div>\n",
       "<style scoped>\n",
       "    .dataframe tbody tr th:only-of-type {\n",
       "        vertical-align: middle;\n",
       "    }\n",
       "\n",
       "    .dataframe tbody tr th {\n",
       "        vertical-align: top;\n",
       "    }\n",
       "\n",
       "    .dataframe thead th {\n",
       "        text-align: right;\n",
       "    }\n",
       "</style>\n",
       "<table border=\"1\" class=\"dataframe\">\n",
       "  <thead>\n",
       "    <tr style=\"text-align: right;\">\n",
       "      <th></th>\n",
       "      <th>name</th>\n",
       "      <th>regions</th>\n",
       "      <th>start_dt</th>\n",
       "      <th>finish_dt</th>\n",
       "    </tr>\n",
       "  </thead>\n",
       "  <tbody>\n",
       "    <tr>\n",
       "      <th>6</th>\n",
       "      <td>Chinese New Year Promo</td>\n",
       "      <td>APAC</td>\n",
       "      <td>2020-01-25</td>\n",
       "      <td>2020-02-07</td>\n",
       "    </tr>\n",
       "    <tr>\n",
       "      <th>1</th>\n",
       "      <td>St. Valentine's Day Giveaway</td>\n",
       "      <td>EU, CIS, APAC, N.America</td>\n",
       "      <td>2020-02-14</td>\n",
       "      <td>2020-02-16</td>\n",
       "    </tr>\n",
       "    <tr>\n",
       "      <th>8</th>\n",
       "      <td>International Women's Day Promo</td>\n",
       "      <td>EU, CIS, APAC</td>\n",
       "      <td>2020-03-08</td>\n",
       "      <td>2020-03-10</td>\n",
       "    </tr>\n",
       "    <tr>\n",
       "      <th>2</th>\n",
       "      <td>St. Patric's Day Promo</td>\n",
       "      <td>EU, N.America</td>\n",
       "      <td>2020-03-17</td>\n",
       "      <td>2020-03-19</td>\n",
       "    </tr>\n",
       "    <tr>\n",
       "      <th>3</th>\n",
       "      <td>Easter Promo</td>\n",
       "      <td>EU, CIS, APAC, N.America</td>\n",
       "      <td>2020-04-12</td>\n",
       "      <td>2020-04-19</td>\n",
       "    </tr>\n",
       "    <tr>\n",
       "      <th>7</th>\n",
       "      <td>Labor day (May 1st) Ads Campaign</td>\n",
       "      <td>EU, CIS, APAC</td>\n",
       "      <td>2020-05-01</td>\n",
       "      <td>2020-05-03</td>\n",
       "    </tr>\n",
       "    <tr>\n",
       "      <th>9</th>\n",
       "      <td>Victory Day CIS (May 9th) Event</td>\n",
       "      <td>CIS</td>\n",
       "      <td>2020-05-09</td>\n",
       "      <td>2020-05-11</td>\n",
       "    </tr>\n",
       "    <tr>\n",
       "      <th>11</th>\n",
       "      <td>Dragon Boat Festival Giveaway</td>\n",
       "      <td>APAC</td>\n",
       "      <td>2020-06-25</td>\n",
       "      <td>2020-07-01</td>\n",
       "    </tr>\n",
       "    <tr>\n",
       "      <th>4</th>\n",
       "      <td>4th of July Promo</td>\n",
       "      <td>N.America</td>\n",
       "      <td>2020-07-04</td>\n",
       "      <td>2020-07-11</td>\n",
       "    </tr>\n",
       "    <tr>\n",
       "      <th>13</th>\n",
       "      <td>Chinese Moon Festival</td>\n",
       "      <td>APAC</td>\n",
       "      <td>2020-10-01</td>\n",
       "      <td>2020-10-07</td>\n",
       "    </tr>\n",
       "    <tr>\n",
       "      <th>12</th>\n",
       "      <td>Single's Day Gift Promo</td>\n",
       "      <td>APAC</td>\n",
       "      <td>2020-11-11</td>\n",
       "      <td>2020-11-12</td>\n",
       "    </tr>\n",
       "    <tr>\n",
       "      <th>5</th>\n",
       "      <td>Black Friday Ads Campaign</td>\n",
       "      <td>EU, CIS, APAC, N.America</td>\n",
       "      <td>2020-11-26</td>\n",
       "      <td>2020-12-01</td>\n",
       "    </tr>\n",
       "    <tr>\n",
       "      <th>0</th>\n",
       "      <td>Christmas&amp;New Year Promo</td>\n",
       "      <td>EU, N.America</td>\n",
       "      <td>2020-12-25</td>\n",
       "      <td>2021-01-03</td>\n",
       "    </tr>\n",
       "    <tr>\n",
       "      <th>10</th>\n",
       "      <td>CIS New Year Gift Lottery</td>\n",
       "      <td>CIS</td>\n",
       "      <td>2020-12-30</td>\n",
       "      <td>2021-01-07</td>\n",
       "    </tr>\n",
       "  </tbody>\n",
       "</table>\n",
       "</div>"
      ],
      "text/plain": [
       "                                name                   regions   start_dt  \\\n",
       "6             Chinese New Year Promo                      APAC 2020-01-25   \n",
       "1       St. Valentine's Day Giveaway  EU, CIS, APAC, N.America 2020-02-14   \n",
       "8    International Women's Day Promo             EU, CIS, APAC 2020-03-08   \n",
       "2             St. Patric's Day Promo             EU, N.America 2020-03-17   \n",
       "3                       Easter Promo  EU, CIS, APAC, N.America 2020-04-12   \n",
       "7   Labor day (May 1st) Ads Campaign             EU, CIS, APAC 2020-05-01   \n",
       "9    Victory Day CIS (May 9th) Event                       CIS 2020-05-09   \n",
       "11     Dragon Boat Festival Giveaway                      APAC 2020-06-25   \n",
       "4                  4th of July Promo                 N.America 2020-07-04   \n",
       "13             Chinese Moon Festival                      APAC 2020-10-01   \n",
       "12           Single's Day Gift Promo                      APAC 2020-11-11   \n",
       "5          Black Friday Ads Campaign  EU, CIS, APAC, N.America 2020-11-26   \n",
       "0           Christmas&New Year Promo             EU, N.America 2020-12-25   \n",
       "10         CIS New Year Gift Lottery                       CIS 2020-12-30   \n",
       "\n",
       "    finish_dt  \n",
       "6  2020-02-07  \n",
       "1  2020-02-16  \n",
       "8  2020-03-10  \n",
       "2  2020-03-19  \n",
       "3  2020-04-19  \n",
       "7  2020-05-03  \n",
       "9  2020-05-11  \n",
       "11 2020-07-01  \n",
       "4  2020-07-11  \n",
       "13 2020-10-07  \n",
       "12 2020-11-12  \n",
       "5  2020-12-01  \n",
       "0  2021-01-03  \n",
       "10 2021-01-07  "
      ]
     },
     "execution_count": 29,
     "metadata": {},
     "output_type": "execute_result"
    }
   ],
   "source": [
    "marketing_events"
   ]
  },
  {
   "cell_type": "code",
   "execution_count": 30,
   "id": "27a394cc",
   "metadata": {},
   "outputs": [
    {
     "name": "stdout",
     "output_type": "stream",
     "text": [
      "2 event(s) start in December.\n",
      "1 event(s) finish in December.\n"
     ]
    }
   ],
   "source": [
    "# adding month columns to better see the relevance for our hypothesis test in December\n",
    "# printing the events which start and end in December\n",
    "marketing_events['start_month'] = marketing_events['start_dt'].dt.month\n",
    "marketing_events['finish_month'] = marketing_events['finish_dt'].dt.month\n",
    "print('{} event(s) start in December.'.format(marketing_events['start_month'].value_counts()[12]))\n",
    "print('{} event(s) finish in December.'.format(marketing_events['finish_month'].value_counts()[12]))"
   ]
  },
  {
   "cell_type": "markdown",
   "id": "562867cc",
   "metadata": {},
   "source": [
    "We can see that only 2 events were launched in December and only one of them in Europe. Also, they both started at the very end of December. The Black Friday Campaign was started in November and ended in December, but already on the first day in December.\n",
    "\n",
    "As the hypothesis test was launched on 2020-12-07 and ended on 2021-01-01, the impact of marketing events will potentially be small as only the 'Christmas&New Year Promo' will partly fall in that time window. \n",
    "\n",
    "The importance of the marketing_events table will also be further derived from the analysis of the other three tables."
   ]
  },
  {
   "cell_type": "code",
   "execution_count": 31,
   "id": "4e82074b",
   "metadata": {},
   "outputs": [
    {
     "name": "stdout",
     "output_type": "stream",
     "text": [
      "A total of 7 marketing events take place in Europe.\n"
     ]
    }
   ],
   "source": [
    "# number of events which are relevant for the european market in general as the audience is european too\n",
    "print('A total of {} marketing events take place in Europe.'.format(marketing_events[marketing_events['regions'].str.contains('EU')].count()[0]))"
   ]
  },
  {
   "cell_type": "markdown",
   "id": "899bbea0",
   "metadata": {},
   "source": [
    "##### 2.2 Analyzing users"
   ]
  },
  {
   "cell_type": "code",
   "execution_count": 32,
   "id": "30946130",
   "metadata": {},
   "outputs": [
    {
     "data": {
      "text/html": [
       "<div>\n",
       "<style scoped>\n",
       "    .dataframe tbody tr th:only-of-type {\n",
       "        vertical-align: middle;\n",
       "    }\n",
       "\n",
       "    .dataframe tbody tr th {\n",
       "        vertical-align: top;\n",
       "    }\n",
       "\n",
       "    .dataframe thead th {\n",
       "        text-align: right;\n",
       "    }\n",
       "</style>\n",
       "<table border=\"1\" class=\"dataframe\">\n",
       "  <thead>\n",
       "    <tr style=\"text-align: right;\">\n",
       "      <th></th>\n",
       "      <th>user_id</th>\n",
       "      <th>first_date</th>\n",
       "      <th>region</th>\n",
       "      <th>device</th>\n",
       "    </tr>\n",
       "  </thead>\n",
       "  <tbody>\n",
       "    <tr>\n",
       "      <th>0</th>\n",
       "      <td>D72A72121175D8BE</td>\n",
       "      <td>2020-12-07</td>\n",
       "      <td>EU</td>\n",
       "      <td>PC</td>\n",
       "    </tr>\n",
       "    <tr>\n",
       "      <th>1</th>\n",
       "      <td>F1C668619DFE6E65</td>\n",
       "      <td>2020-12-07</td>\n",
       "      <td>N.America</td>\n",
       "      <td>Android</td>\n",
       "    </tr>\n",
       "    <tr>\n",
       "      <th>2</th>\n",
       "      <td>2E1BF1D4C37EA01F</td>\n",
       "      <td>2020-12-07</td>\n",
       "      <td>EU</td>\n",
       "      <td>PC</td>\n",
       "    </tr>\n",
       "    <tr>\n",
       "      <th>3</th>\n",
       "      <td>50734A22C0C63768</td>\n",
       "      <td>2020-12-07</td>\n",
       "      <td>EU</td>\n",
       "      <td>iPhone</td>\n",
       "    </tr>\n",
       "    <tr>\n",
       "      <th>4</th>\n",
       "      <td>E1BDDCE0DAFA2679</td>\n",
       "      <td>2020-12-07</td>\n",
       "      <td>N.America</td>\n",
       "      <td>iPhone</td>\n",
       "    </tr>\n",
       "    <tr>\n",
       "      <th>...</th>\n",
       "      <td>...</td>\n",
       "      <td>...</td>\n",
       "      <td>...</td>\n",
       "      <td>...</td>\n",
       "    </tr>\n",
       "    <tr>\n",
       "      <th>58698</th>\n",
       "      <td>1DB53B933257165D</td>\n",
       "      <td>2020-12-20</td>\n",
       "      <td>EU</td>\n",
       "      <td>Android</td>\n",
       "    </tr>\n",
       "    <tr>\n",
       "      <th>58699</th>\n",
       "      <td>538643EB4527ED03</td>\n",
       "      <td>2020-12-20</td>\n",
       "      <td>EU</td>\n",
       "      <td>Mac</td>\n",
       "    </tr>\n",
       "    <tr>\n",
       "      <th>58700</th>\n",
       "      <td>7ADEE837D5D8CBBD</td>\n",
       "      <td>2020-12-20</td>\n",
       "      <td>EU</td>\n",
       "      <td>PC</td>\n",
       "    </tr>\n",
       "    <tr>\n",
       "      <th>58701</th>\n",
       "      <td>1C7D23927835213F</td>\n",
       "      <td>2020-12-20</td>\n",
       "      <td>EU</td>\n",
       "      <td>iPhone</td>\n",
       "    </tr>\n",
       "    <tr>\n",
       "      <th>58702</th>\n",
       "      <td>8F04273BB2860229</td>\n",
       "      <td>2020-12-20</td>\n",
       "      <td>EU</td>\n",
       "      <td>Android</td>\n",
       "    </tr>\n",
       "  </tbody>\n",
       "</table>\n",
       "<p>58703 rows × 4 columns</p>\n",
       "</div>"
      ],
      "text/plain": [
       "                user_id first_date     region   device\n",
       "0      D72A72121175D8BE 2020-12-07         EU       PC\n",
       "1      F1C668619DFE6E65 2020-12-07  N.America  Android\n",
       "2      2E1BF1D4C37EA01F 2020-12-07         EU       PC\n",
       "3      50734A22C0C63768 2020-12-07         EU   iPhone\n",
       "4      E1BDDCE0DAFA2679 2020-12-07  N.America   iPhone\n",
       "...                 ...        ...        ...      ...\n",
       "58698  1DB53B933257165D 2020-12-20         EU  Android\n",
       "58699  538643EB4527ED03 2020-12-20         EU      Mac\n",
       "58700  7ADEE837D5D8CBBD 2020-12-20         EU       PC\n",
       "58701  1C7D23927835213F 2020-12-20         EU   iPhone\n",
       "58702  8F04273BB2860229 2020-12-20         EU  Android\n",
       "\n",
       "[58703 rows x 4 columns]"
      ]
     },
     "execution_count": 32,
     "metadata": {},
     "output_type": "execute_result"
    }
   ],
   "source": [
    "users"
   ]
  },
  {
   "cell_type": "code",
   "execution_count": 33,
   "id": "32e6d6c2",
   "metadata": {
    "scrolled": true
   },
   "outputs": [
    {
     "name": "stdout",
     "output_type": "stream",
     "text": [
      "The earliest date in the table is 2020-12-07 00:00:00. Expected to be the launch date 2020-12-07.\n",
      "The last date in the table is 2020-12-23 00:00:00. Expected to be the stop date 2020-12-21.\n"
     ]
    }
   ],
   "source": [
    "#getting first and last date to check against test description\n",
    "print('The earliest date in the table is {}. Expected to be the launch date 2020-12-07.'.format(users['first_date'].min()))\n",
    "print('The last date in the table is {}. Expected to be the stop date 2020-12-21.'.format(users['first_date'].max()))"
   ]
  },
  {
   "cell_type": "code",
   "execution_count": 34,
   "id": "e7e5f714",
   "metadata": {},
   "outputs": [
    {
     "name": "stdout",
     "output_type": "stream",
     "text": [
      "There were 5263 new users taken after the 2020-12-21.\n"
     ]
    }
   ],
   "source": [
    "# analyzing how many users were taken after the stop date in the technical description\n",
    "print('There were {} new users taken after the 2020-12-21.'.format(users[users['first_date'] > '2020-12-21' ].count()[1]))"
   ]
  },
  {
   "cell_type": "code",
   "execution_count": 35,
   "id": "0c953013",
   "metadata": {},
   "outputs": [],
   "source": [
    "# drop new users who joined after 2021-12-21 in order to match technical description and ensure data consistency.\n",
    "users = users[users['first_date'] < '2020-12-22']"
   ]
  },
  {
   "cell_type": "code",
   "execution_count": 36,
   "id": "575bff77",
   "metadata": {},
   "outputs": [
    {
     "name": "stdout",
     "output_type": "stream",
     "text": [
      "Number of new users from the EU: 39466\n"
     ]
    }
   ],
   "source": [
    "#users who come from EU(audience is supposed to be 15% of new users from EU and expected number of test participtats is 6000)\n",
    "print('Number of new users from the EU: {}'.format(users['region'].value_counts()['EU']))"
   ]
  },
  {
   "cell_type": "markdown",
   "id": "735b8a23",
   "metadata": {},
   "source": [
    "This number makes sense as 15% of 39466 roughly eqaul the 6000 test participants of the technical description."
   ]
  },
  {
   "cell_type": "markdown",
   "id": "f1faecb9",
   "metadata": {},
   "source": [
    "##### 2.3 Analyzing user_events \n",
    "##### Note: Analysis is solely conducted on this table. Later joins or merges with other tables are not taken into consideration here."
   ]
  },
  {
   "cell_type": "code",
   "execution_count": 37,
   "id": "5a366024",
   "metadata": {},
   "outputs": [
    {
     "data": {
      "text/html": [
       "<div>\n",
       "<style scoped>\n",
       "    .dataframe tbody tr th:only-of-type {\n",
       "        vertical-align: middle;\n",
       "    }\n",
       "\n",
       "    .dataframe tbody tr th {\n",
       "        vertical-align: top;\n",
       "    }\n",
       "\n",
       "    .dataframe thead th {\n",
       "        text-align: right;\n",
       "    }\n",
       "</style>\n",
       "<table border=\"1\" class=\"dataframe\">\n",
       "  <thead>\n",
       "    <tr style=\"text-align: right;\">\n",
       "      <th></th>\n",
       "      <th>user_id</th>\n",
       "      <th>event_dt</th>\n",
       "      <th>event_name</th>\n",
       "      <th>details</th>\n",
       "    </tr>\n",
       "  </thead>\n",
       "  <tbody>\n",
       "    <tr>\n",
       "      <th>0</th>\n",
       "      <td>E1BDDCE0DAFA2679</td>\n",
       "      <td>2020-12-07 20:22:03</td>\n",
       "      <td>purchase</td>\n",
       "      <td>99.99</td>\n",
       "    </tr>\n",
       "    <tr>\n",
       "      <th>1</th>\n",
       "      <td>7B6452F081F49504</td>\n",
       "      <td>2020-12-07 09:22:53</td>\n",
       "      <td>purchase</td>\n",
       "      <td>9.99</td>\n",
       "    </tr>\n",
       "    <tr>\n",
       "      <th>2</th>\n",
       "      <td>9CD9F34546DF254C</td>\n",
       "      <td>2020-12-07 12:59:29</td>\n",
       "      <td>purchase</td>\n",
       "      <td>4.99</td>\n",
       "    </tr>\n",
       "    <tr>\n",
       "      <th>3</th>\n",
       "      <td>96F27A054B191457</td>\n",
       "      <td>2020-12-07 04:02:40</td>\n",
       "      <td>purchase</td>\n",
       "      <td>4.99</td>\n",
       "    </tr>\n",
       "    <tr>\n",
       "      <th>4</th>\n",
       "      <td>1FD7660FDF94CA1F</td>\n",
       "      <td>2020-12-07 10:15:09</td>\n",
       "      <td>purchase</td>\n",
       "      <td>4.99</td>\n",
       "    </tr>\n",
       "    <tr>\n",
       "      <th>...</th>\n",
       "      <td>...</td>\n",
       "      <td>...</td>\n",
       "      <td>...</td>\n",
       "      <td>...</td>\n",
       "    </tr>\n",
       "    <tr>\n",
       "      <th>423756</th>\n",
       "      <td>245E85F65C358E08</td>\n",
       "      <td>2020-12-30 19:35:55</td>\n",
       "      <td>login</td>\n",
       "      <td>NaN</td>\n",
       "    </tr>\n",
       "    <tr>\n",
       "      <th>423757</th>\n",
       "      <td>9385A108F5A0A7A7</td>\n",
       "      <td>2020-12-30 10:54:15</td>\n",
       "      <td>login</td>\n",
       "      <td>NaN</td>\n",
       "    </tr>\n",
       "    <tr>\n",
       "      <th>423758</th>\n",
       "      <td>DB650B7559AC6EAC</td>\n",
       "      <td>2020-12-30 10:59:09</td>\n",
       "      <td>login</td>\n",
       "      <td>NaN</td>\n",
       "    </tr>\n",
       "    <tr>\n",
       "      <th>423759</th>\n",
       "      <td>F80C9BDDEA02E53C</td>\n",
       "      <td>2020-12-30 09:53:39</td>\n",
       "      <td>login</td>\n",
       "      <td>NaN</td>\n",
       "    </tr>\n",
       "    <tr>\n",
       "      <th>423760</th>\n",
       "      <td>7AEC61159B672CC5</td>\n",
       "      <td>2020-12-30 11:36:13</td>\n",
       "      <td>login</td>\n",
       "      <td>NaN</td>\n",
       "    </tr>\n",
       "  </tbody>\n",
       "</table>\n",
       "<p>423761 rows × 4 columns</p>\n",
       "</div>"
      ],
      "text/plain": [
       "                 user_id            event_dt event_name  details\n",
       "0       E1BDDCE0DAFA2679 2020-12-07 20:22:03   purchase    99.99\n",
       "1       7B6452F081F49504 2020-12-07 09:22:53   purchase     9.99\n",
       "2       9CD9F34546DF254C 2020-12-07 12:59:29   purchase     4.99\n",
       "3       96F27A054B191457 2020-12-07 04:02:40   purchase     4.99\n",
       "4       1FD7660FDF94CA1F 2020-12-07 10:15:09   purchase     4.99\n",
       "...                  ...                 ...        ...      ...\n",
       "423756  245E85F65C358E08 2020-12-30 19:35:55      login      NaN\n",
       "423757  9385A108F5A0A7A7 2020-12-30 10:54:15      login      NaN\n",
       "423758  DB650B7559AC6EAC 2020-12-30 10:59:09      login      NaN\n",
       "423759  F80C9BDDEA02E53C 2020-12-30 09:53:39      login      NaN\n",
       "423760  7AEC61159B672CC5 2020-12-30 11:36:13      login      NaN\n",
       "\n",
       "[423761 rows x 4 columns]"
      ]
     },
     "execution_count": 37,
     "metadata": {},
     "output_type": "execute_result"
    }
   ],
   "source": [
    "user_events"
   ]
  },
  {
   "cell_type": "code",
   "execution_count": 38,
   "id": "8535f691",
   "metadata": {},
   "outputs": [
    {
     "data": {
      "text/plain": [
       "login           182465\n",
       "product_page    120862\n",
       "purchase         60314\n",
       "product_cart     60120\n",
       "Name: event_name, dtype: int64"
      ]
     },
     "execution_count": 38,
     "metadata": {},
     "output_type": "execute_result"
    }
   ],
   "source": [
    "#number of events per event_name\n",
    "user_events['event_name'].value_counts()"
   ]
  },
  {
   "cell_type": "markdown",
   "id": "3ca2cbea",
   "metadata": {},
   "source": [
    "It totally makes sense that login events are displayed most frequently because not every login will lead to a purchase and even if one wants to purchase, he or she still needs to login before. \n",
    "One interesting thing to note is that the number of puchases exceeds the number of product cart views. To further investigate this conspicuousness, we would need to take a look at the actual website."
   ]
  },
  {
   "cell_type": "code",
   "execution_count": 39,
   "id": "3ca3aa70",
   "metadata": {},
   "outputs": [
    {
     "data": {
      "text/plain": [
       "count    60314.000000\n",
       "mean        23.881219\n",
       "std         72.228884\n",
       "min          4.990000\n",
       "25%          4.990000\n",
       "50%          4.990000\n",
       "75%          9.990000\n",
       "max        499.990000\n",
       "Name: details, dtype: float64"
      ]
     },
     "execution_count": 39,
     "metadata": {},
     "output_type": "execute_result"
    }
   ],
   "source": [
    "# examining purchasing price\n",
    "user_events.query('event_name == \"purchase\"')['details'].describe()"
   ]
  },
  {
   "cell_type": "markdown",
   "id": "eb414176",
   "metadata": {},
   "source": [
    "We can see a wide range of prices. The mean of avout 23 indicates that most products are sold for a rather low amout of money which can be also seen be the percentiles. It will be interesting to see if the new payment funnel will not only lead to more purchases but also to more revenue per purchase."
   ]
  },
  {
   "cell_type": "code",
   "execution_count": 40,
   "id": "70b3b9cc",
   "metadata": {},
   "outputs": [],
   "source": [
    "# creating a column for the hour to see most active user hours\n",
    "user_events['hour'] = user_events['event_dt'].dt.hour"
   ]
  },
  {
   "cell_type": "code",
   "execution_count": 41,
   "id": "68e7a0e3",
   "metadata": {
    "scrolled": false
   },
   "outputs": [
    {
     "data": {
      "image/png": "[encoded data removed]",
      "text/plain": [
       "<Figure size 1152x360 with 1 Axes>"
      ]
     },
     "metadata": {
      "needs_background": "light"
     },
     "output_type": "display_data"
    }
   ],
   "source": [
    "plt.figure(figsize=(16,5))\n",
    "sb.countplot(data=user_events, x='hour', hue='event_name')\n",
    "plt.title('Customer activity per hour.');"
   ]
  },
  {
   "cell_type": "markdown",
   "id": "b6255b0a",
   "metadata": {},
   "source": [
    "We can almost see no peak hours in the graph. The users are acive all the time (which makes sense for an online shop with users all around the world with different time zones): "
   ]
  },
  {
   "cell_type": "markdown",
   "id": "93ef3c1b",
   "metadata": {},
   "source": [
    "##### 2.4 Analyzing participants"
   ]
  },
  {
   "cell_type": "code",
   "execution_count": 42,
   "id": "c46ae1b6",
   "metadata": {},
   "outputs": [
    {
     "data": {
      "text/html": [
       "<div>\n",
       "<style scoped>\n",
       "    .dataframe tbody tr th:only-of-type {\n",
       "        vertical-align: middle;\n",
       "    }\n",
       "\n",
       "    .dataframe tbody tr th {\n",
       "        vertical-align: top;\n",
       "    }\n",
       "\n",
       "    .dataframe thead th {\n",
       "        text-align: right;\n",
       "    }\n",
       "</style>\n",
       "<table border=\"1\" class=\"dataframe\">\n",
       "  <thead>\n",
       "    <tr style=\"text-align: right;\">\n",
       "      <th></th>\n",
       "      <th>user_id</th>\n",
       "      <th>group</th>\n",
       "      <th>ab_test</th>\n",
       "    </tr>\n",
       "  </thead>\n",
       "  <tbody>\n",
       "    <tr>\n",
       "      <th>0</th>\n",
       "      <td>D1ABA3E2887B6A73</td>\n",
       "      <td>A</td>\n",
       "      <td>recommender_system_test</td>\n",
       "    </tr>\n",
       "    <tr>\n",
       "      <th>1</th>\n",
       "      <td>A7A3664BD6242119</td>\n",
       "      <td>A</td>\n",
       "      <td>recommender_system_test</td>\n",
       "    </tr>\n",
       "    <tr>\n",
       "      <th>2</th>\n",
       "      <td>DABC14FDDFADD29E</td>\n",
       "      <td>A</td>\n",
       "      <td>recommender_system_test</td>\n",
       "    </tr>\n",
       "    <tr>\n",
       "      <th>3</th>\n",
       "      <td>04988C5DF189632E</td>\n",
       "      <td>A</td>\n",
       "      <td>recommender_system_test</td>\n",
       "    </tr>\n",
       "    <tr>\n",
       "      <th>4</th>\n",
       "      <td>4FF2998A348C484F</td>\n",
       "      <td>A</td>\n",
       "      <td>recommender_system_test</td>\n",
       "    </tr>\n",
       "    <tr>\n",
       "      <th>...</th>\n",
       "      <td>...</td>\n",
       "      <td>...</td>\n",
       "      <td>...</td>\n",
       "    </tr>\n",
       "    <tr>\n",
       "      <th>14520</th>\n",
       "      <td>1D302F8688B91781</td>\n",
       "      <td>B</td>\n",
       "      <td>interface_eu_test</td>\n",
       "    </tr>\n",
       "    <tr>\n",
       "      <th>14521</th>\n",
       "      <td>3DE51B726983B657</td>\n",
       "      <td>A</td>\n",
       "      <td>interface_eu_test</td>\n",
       "    </tr>\n",
       "    <tr>\n",
       "      <th>14522</th>\n",
       "      <td>F501F79D332BE86C</td>\n",
       "      <td>A</td>\n",
       "      <td>interface_eu_test</td>\n",
       "    </tr>\n",
       "    <tr>\n",
       "      <th>14523</th>\n",
       "      <td>63FBE257B05F2245</td>\n",
       "      <td>A</td>\n",
       "      <td>interface_eu_test</td>\n",
       "    </tr>\n",
       "    <tr>\n",
       "      <th>14524</th>\n",
       "      <td>79F9ABFB029CF724</td>\n",
       "      <td>B</td>\n",
       "      <td>interface_eu_test</td>\n",
       "    </tr>\n",
       "  </tbody>\n",
       "</table>\n",
       "<p>14525 rows × 3 columns</p>\n",
       "</div>"
      ],
      "text/plain": [
       "                user_id group                  ab_test\n",
       "0      D1ABA3E2887B6A73     A  recommender_system_test\n",
       "1      A7A3664BD6242119     A  recommender_system_test\n",
       "2      DABC14FDDFADD29E     A  recommender_system_test\n",
       "3      04988C5DF189632E     A  recommender_system_test\n",
       "4      4FF2998A348C484F     A  recommender_system_test\n",
       "...                 ...   ...                      ...\n",
       "14520  1D302F8688B91781     B        interface_eu_test\n",
       "14521  3DE51B726983B657     A        interface_eu_test\n",
       "14522  F501F79D332BE86C     A        interface_eu_test\n",
       "14523  63FBE257B05F2245     A        interface_eu_test\n",
       "14524  79F9ABFB029CF724     B        interface_eu_test\n",
       "\n",
       "[14525 rows x 3 columns]"
      ]
     },
     "execution_count": 42,
     "metadata": {},
     "output_type": "execute_result"
    }
   ],
   "source": [
    "participants"
   ]
  },
  {
   "cell_type": "code",
   "execution_count": 43,
   "id": "c97e7ea2",
   "metadata": {},
   "outputs": [
    {
     "data": {
      "text/plain": [
       "interface_eu_test          10850\n",
       "recommender_system_test     3675\n",
       "Name: ab_test, dtype: int64"
      ]
     },
     "execution_count": 43,
     "metadata": {},
     "output_type": "execute_result"
    }
   ],
   "source": [
    "# examining the size of the two tests\n",
    "participants.ab_test.value_counts()"
   ]
  },
  {
   "cell_type": "code",
   "execution_count": 44,
   "id": "74e2d157",
   "metadata": {},
   "outputs": [
    {
     "data": {
      "text/plain": [
       "A    5467\n",
       "B    5383\n",
       "Name: group, dtype: int64"
      ]
     },
     "execution_count": 44,
     "metadata": {},
     "output_type": "execute_result"
    }
   ],
   "source": [
    "participants[participants['ab_test'] == 'interface_eu_test']['group'].value_counts()"
   ]
  },
  {
   "cell_type": "code",
   "execution_count": 45,
   "id": "5465e499",
   "metadata": {},
   "outputs": [
    {
     "data": {
      "text/plain": [
       "A    2747\n",
       "B     928\n",
       "Name: group, dtype: int64"
      ]
     },
     "execution_count": 45,
     "metadata": {},
     "output_type": "execute_result"
    }
   ],
   "source": [
    "participants[participants['ab_test'] == 'recommender_system_test']['group'].value_counts()"
   ]
  },
  {
   "cell_type": "code",
   "execution_count": 46,
   "id": "02bcfaf5",
   "metadata": {},
   "outputs": [
    {
     "data": {
      "image/png": "[encoded data removed]",
      "text/plain": [
       "<Figure size 432x288 with 1 Axes>"
      ]
     },
     "metadata": {
      "needs_background": "light"
     },
     "output_type": "display_data"
    }
   ],
   "source": [
    "sb.countplot(data=participants, x='ab_test',hue='group')\n",
    "plt.title('Test size');"
   ]
  },
  {
   "cell_type": "markdown",
   "id": "639d1d04",
   "metadata": {},
   "source": [
    "If one goes by the technical description, the recommender_system_test is the test of interest for us. The problem is that its size is rather small and not even close to the expected number of participants. \n",
    "Unlike the interface_eu_test, group B only makes up 25% of the total test size in the reommender_system_test."
   ]
  },
  {
   "cell_type": "markdown",
   "id": "fb55026c",
   "metadata": {},
   "source": [
    "## 3. A/B test preparation"
   ]
  },
  {
   "cell_type": "code",
   "execution_count": 47,
   "id": "e7a49028",
   "metadata": {},
   "outputs": [],
   "source": [
    "participants = participants[participants['ab_test'] == 'recommender_system_test']"
   ]
  },
  {
   "cell_type": "code",
   "execution_count": 48,
   "id": "9cb35129",
   "metadata": {},
   "outputs": [
    {
     "data": {
      "text/html": [
       "<div>\n",
       "<style scoped>\n",
       "    .dataframe tbody tr th:only-of-type {\n",
       "        vertical-align: middle;\n",
       "    }\n",
       "\n",
       "    .dataframe tbody tr th {\n",
       "        vertical-align: top;\n",
       "    }\n",
       "\n",
       "    .dataframe thead th {\n",
       "        text-align: right;\n",
       "    }\n",
       "</style>\n",
       "<table border=\"1\" class=\"dataframe\">\n",
       "  <thead>\n",
       "    <tr style=\"text-align: right;\">\n",
       "      <th></th>\n",
       "      <th>user_id</th>\n",
       "      <th>group</th>\n",
       "      <th>ab_test</th>\n",
       "    </tr>\n",
       "  </thead>\n",
       "  <tbody>\n",
       "    <tr>\n",
       "      <th>0</th>\n",
       "      <td>D1ABA3E2887B6A73</td>\n",
       "      <td>A</td>\n",
       "      <td>recommender_system_test</td>\n",
       "    </tr>\n",
       "    <tr>\n",
       "      <th>1</th>\n",
       "      <td>A7A3664BD6242119</td>\n",
       "      <td>A</td>\n",
       "      <td>recommender_system_test</td>\n",
       "    </tr>\n",
       "    <tr>\n",
       "      <th>2</th>\n",
       "      <td>DABC14FDDFADD29E</td>\n",
       "      <td>A</td>\n",
       "      <td>recommender_system_test</td>\n",
       "    </tr>\n",
       "    <tr>\n",
       "      <th>3</th>\n",
       "      <td>04988C5DF189632E</td>\n",
       "      <td>A</td>\n",
       "      <td>recommender_system_test</td>\n",
       "    </tr>\n",
       "    <tr>\n",
       "      <th>4</th>\n",
       "      <td>4FF2998A348C484F</td>\n",
       "      <td>A</td>\n",
       "      <td>recommender_system_test</td>\n",
       "    </tr>\n",
       "  </tbody>\n",
       "</table>\n",
       "</div>"
      ],
      "text/plain": [
       "            user_id group                  ab_test\n",
       "0  D1ABA3E2887B6A73     A  recommender_system_test\n",
       "1  A7A3664BD6242119     A  recommender_system_test\n",
       "2  DABC14FDDFADD29E     A  recommender_system_test\n",
       "3  04988C5DF189632E     A  recommender_system_test\n",
       "4  4FF2998A348C484F     A  recommender_system_test"
      ]
     },
     "execution_count": 48,
     "metadata": {},
     "output_type": "execute_result"
    }
   ],
   "source": [
    "#getting a quick overview about the tables\n",
    "participants.head()"
   ]
  },
  {
   "cell_type": "code",
   "execution_count": 49,
   "id": "80636a3f",
   "metadata": {},
   "outputs": [
    {
     "data": {
      "text/html": [
       "<div>\n",
       "<style scoped>\n",
       "    .dataframe tbody tr th:only-of-type {\n",
       "        vertical-align: middle;\n",
       "    }\n",
       "\n",
       "    .dataframe tbody tr th {\n",
       "        vertical-align: top;\n",
       "    }\n",
       "\n",
       "    .dataframe thead th {\n",
       "        text-align: right;\n",
       "    }\n",
       "</style>\n",
       "<table border=\"1\" class=\"dataframe\">\n",
       "  <thead>\n",
       "    <tr style=\"text-align: right;\">\n",
       "      <th></th>\n",
       "      <th>user_id</th>\n",
       "      <th>first_date</th>\n",
       "      <th>region</th>\n",
       "      <th>device</th>\n",
       "    </tr>\n",
       "  </thead>\n",
       "  <tbody>\n",
       "    <tr>\n",
       "      <th>0</th>\n",
       "      <td>D72A72121175D8BE</td>\n",
       "      <td>2020-12-07</td>\n",
       "      <td>EU</td>\n",
       "      <td>PC</td>\n",
       "    </tr>\n",
       "    <tr>\n",
       "      <th>1</th>\n",
       "      <td>F1C668619DFE6E65</td>\n",
       "      <td>2020-12-07</td>\n",
       "      <td>N.America</td>\n",
       "      <td>Android</td>\n",
       "    </tr>\n",
       "    <tr>\n",
       "      <th>2</th>\n",
       "      <td>2E1BF1D4C37EA01F</td>\n",
       "      <td>2020-12-07</td>\n",
       "      <td>EU</td>\n",
       "      <td>PC</td>\n",
       "    </tr>\n",
       "    <tr>\n",
       "      <th>3</th>\n",
       "      <td>50734A22C0C63768</td>\n",
       "      <td>2020-12-07</td>\n",
       "      <td>EU</td>\n",
       "      <td>iPhone</td>\n",
       "    </tr>\n",
       "    <tr>\n",
       "      <th>4</th>\n",
       "      <td>E1BDDCE0DAFA2679</td>\n",
       "      <td>2020-12-07</td>\n",
       "      <td>N.America</td>\n",
       "      <td>iPhone</td>\n",
       "    </tr>\n",
       "  </tbody>\n",
       "</table>\n",
       "</div>"
      ],
      "text/plain": [
       "            user_id first_date     region   device\n",
       "0  D72A72121175D8BE 2020-12-07         EU       PC\n",
       "1  F1C668619DFE6E65 2020-12-07  N.America  Android\n",
       "2  2E1BF1D4C37EA01F 2020-12-07         EU       PC\n",
       "3  50734A22C0C63768 2020-12-07         EU   iPhone\n",
       "4  E1BDDCE0DAFA2679 2020-12-07  N.America   iPhone"
      ]
     },
     "execution_count": 49,
     "metadata": {},
     "output_type": "execute_result"
    }
   ],
   "source": [
    "users.head()"
   ]
  },
  {
   "cell_type": "code",
   "execution_count": 50,
   "id": "8003e20e",
   "metadata": {},
   "outputs": [
    {
     "data": {
      "text/html": [
       "<div>\n",
       "<style scoped>\n",
       "    .dataframe tbody tr th:only-of-type {\n",
       "        vertical-align: middle;\n",
       "    }\n",
       "\n",
       "    .dataframe tbody tr th {\n",
       "        vertical-align: top;\n",
       "    }\n",
       "\n",
       "    .dataframe thead th {\n",
       "        text-align: right;\n",
       "    }\n",
       "</style>\n",
       "<table border=\"1\" class=\"dataframe\">\n",
       "  <thead>\n",
       "    <tr style=\"text-align: right;\">\n",
       "      <th></th>\n",
       "      <th>user_id</th>\n",
       "      <th>event_dt</th>\n",
       "      <th>event_name</th>\n",
       "      <th>details</th>\n",
       "      <th>hour</th>\n",
       "    </tr>\n",
       "  </thead>\n",
       "  <tbody>\n",
       "    <tr>\n",
       "      <th>0</th>\n",
       "      <td>E1BDDCE0DAFA2679</td>\n",
       "      <td>2020-12-07 20:22:03</td>\n",
       "      <td>purchase</td>\n",
       "      <td>99.99</td>\n",
       "      <td>20</td>\n",
       "    </tr>\n",
       "    <tr>\n",
       "      <th>1</th>\n",
       "      <td>7B6452F081F49504</td>\n",
       "      <td>2020-12-07 09:22:53</td>\n",
       "      <td>purchase</td>\n",
       "      <td>9.99</td>\n",
       "      <td>9</td>\n",
       "    </tr>\n",
       "    <tr>\n",
       "      <th>2</th>\n",
       "      <td>9CD9F34546DF254C</td>\n",
       "      <td>2020-12-07 12:59:29</td>\n",
       "      <td>purchase</td>\n",
       "      <td>4.99</td>\n",
       "      <td>12</td>\n",
       "    </tr>\n",
       "    <tr>\n",
       "      <th>3</th>\n",
       "      <td>96F27A054B191457</td>\n",
       "      <td>2020-12-07 04:02:40</td>\n",
       "      <td>purchase</td>\n",
       "      <td>4.99</td>\n",
       "      <td>4</td>\n",
       "    </tr>\n",
       "    <tr>\n",
       "      <th>4</th>\n",
       "      <td>1FD7660FDF94CA1F</td>\n",
       "      <td>2020-12-07 10:15:09</td>\n",
       "      <td>purchase</td>\n",
       "      <td>4.99</td>\n",
       "      <td>10</td>\n",
       "    </tr>\n",
       "  </tbody>\n",
       "</table>\n",
       "</div>"
      ],
      "text/plain": [
       "            user_id            event_dt event_name  details  hour\n",
       "0  E1BDDCE0DAFA2679 2020-12-07 20:22:03   purchase    99.99    20\n",
       "1  7B6452F081F49504 2020-12-07 09:22:53   purchase     9.99     9\n",
       "2  9CD9F34546DF254C 2020-12-07 12:59:29   purchase     4.99    12\n",
       "3  96F27A054B191457 2020-12-07 04:02:40   purchase     4.99     4\n",
       "4  1FD7660FDF94CA1F 2020-12-07 10:15:09   purchase     4.99    10"
      ]
     },
     "execution_count": 50,
     "metadata": {},
     "output_type": "execute_result"
    }
   ],
   "source": [
    "user_events.head()"
   ]
  },
  {
   "cell_type": "code",
   "execution_count": 51,
   "id": "143a8a66",
   "metadata": {},
   "outputs": [],
   "source": [
    "# setting user_id as index\n",
    "participants.set_index('user_id')\n",
    "users.set_index('user_id')\n",
    "user_events.set_index('user_id');"
   ]
  },
  {
   "cell_type": "code",
   "execution_count": 52,
   "id": "db6d2e44",
   "metadata": {
    "scrolled": true
   },
   "outputs": [],
   "source": [
    "# merge participants and users\n",
    "df_pre = pd.merge(participants, users)"
   ]
  },
  {
   "cell_type": "code",
   "execution_count": 53,
   "id": "f53ce116",
   "metadata": {},
   "outputs": [],
   "source": [
    "# merge user_events with the predefined df\n",
    "df_final = pd.merge(df_pre, user_events)"
   ]
  },
  {
   "cell_type": "code",
   "execution_count": 54,
   "id": "ab2638f3",
   "metadata": {},
   "outputs": [],
   "source": [
    "# copy dataframe\n",
    "df = df_final.copy()"
   ]
  },
  {
   "cell_type": "code",
   "execution_count": 55,
   "id": "2f86484a",
   "metadata": {},
   "outputs": [
    {
     "data": {
      "text/html": [
       "<div>\n",
       "<style scoped>\n",
       "    .dataframe tbody tr th:only-of-type {\n",
       "        vertical-align: middle;\n",
       "    }\n",
       "\n",
       "    .dataframe tbody tr th {\n",
       "        vertical-align: top;\n",
       "    }\n",
       "\n",
       "    .dataframe thead th {\n",
       "        text-align: right;\n",
       "    }\n",
       "</style>\n",
       "<table border=\"1\" class=\"dataframe\">\n",
       "  <thead>\n",
       "    <tr style=\"text-align: right;\">\n",
       "      <th></th>\n",
       "      <th>user_id</th>\n",
       "      <th>group</th>\n",
       "      <th>ab_test</th>\n",
       "      <th>first_date</th>\n",
       "      <th>region</th>\n",
       "      <th>device</th>\n",
       "      <th>event_dt</th>\n",
       "      <th>event_name</th>\n",
       "      <th>details</th>\n",
       "      <th>hour</th>\n",
       "    </tr>\n",
       "  </thead>\n",
       "  <tbody>\n",
       "    <tr>\n",
       "      <th>0</th>\n",
       "      <td>D1ABA3E2887B6A73</td>\n",
       "      <td>A</td>\n",
       "      <td>recommender_system_test</td>\n",
       "      <td>2020-12-07</td>\n",
       "      <td>EU</td>\n",
       "      <td>PC</td>\n",
       "      <td>2020-12-07 14:43:27</td>\n",
       "      <td>purchase</td>\n",
       "      <td>99.99</td>\n",
       "      <td>14</td>\n",
       "    </tr>\n",
       "    <tr>\n",
       "      <th>1</th>\n",
       "      <td>D1ABA3E2887B6A73</td>\n",
       "      <td>A</td>\n",
       "      <td>recommender_system_test</td>\n",
       "      <td>2020-12-07</td>\n",
       "      <td>EU</td>\n",
       "      <td>PC</td>\n",
       "      <td>2020-12-07 14:43:29</td>\n",
       "      <td>product_cart</td>\n",
       "      <td>NaN</td>\n",
       "      <td>14</td>\n",
       "    </tr>\n",
       "    <tr>\n",
       "      <th>2</th>\n",
       "      <td>D1ABA3E2887B6A73</td>\n",
       "      <td>A</td>\n",
       "      <td>recommender_system_test</td>\n",
       "      <td>2020-12-07</td>\n",
       "      <td>EU</td>\n",
       "      <td>PC</td>\n",
       "      <td>2020-12-07 14:43:27</td>\n",
       "      <td>product_page</td>\n",
       "      <td>NaN</td>\n",
       "      <td>14</td>\n",
       "    </tr>\n",
       "    <tr>\n",
       "      <th>3</th>\n",
       "      <td>D1ABA3E2887B6A73</td>\n",
       "      <td>A</td>\n",
       "      <td>recommender_system_test</td>\n",
       "      <td>2020-12-07</td>\n",
       "      <td>EU</td>\n",
       "      <td>PC</td>\n",
       "      <td>2020-12-07 14:43:27</td>\n",
       "      <td>login</td>\n",
       "      <td>NaN</td>\n",
       "      <td>14</td>\n",
       "    </tr>\n",
       "    <tr>\n",
       "      <th>4</th>\n",
       "      <td>A7A3664BD6242119</td>\n",
       "      <td>A</td>\n",
       "      <td>recommender_system_test</td>\n",
       "      <td>2020-12-20</td>\n",
       "      <td>EU</td>\n",
       "      <td>iPhone</td>\n",
       "      <td>2020-12-20 15:46:06</td>\n",
       "      <td>product_page</td>\n",
       "      <td>NaN</td>\n",
       "      <td>15</td>\n",
       "    </tr>\n",
       "  </tbody>\n",
       "</table>\n",
       "</div>"
      ],
      "text/plain": [
       "            user_id group                  ab_test first_date region  device  \\\n",
       "0  D1ABA3E2887B6A73     A  recommender_system_test 2020-12-07     EU      PC   \n",
       "1  D1ABA3E2887B6A73     A  recommender_system_test 2020-12-07     EU      PC   \n",
       "2  D1ABA3E2887B6A73     A  recommender_system_test 2020-12-07     EU      PC   \n",
       "3  D1ABA3E2887B6A73     A  recommender_system_test 2020-12-07     EU      PC   \n",
       "4  A7A3664BD6242119     A  recommender_system_test 2020-12-20     EU  iPhone   \n",
       "\n",
       "             event_dt    event_name  details  hour  \n",
       "0 2020-12-07 14:43:27      purchase    99.99    14  \n",
       "1 2020-12-07 14:43:29  product_cart      NaN    14  \n",
       "2 2020-12-07 14:43:27  product_page      NaN    14  \n",
       "3 2020-12-07 14:43:27         login      NaN    14  \n",
       "4 2020-12-20 15:46:06  product_page      NaN    15  "
      ]
     },
     "execution_count": 55,
     "metadata": {},
     "output_type": "execute_result"
    }
   ],
   "source": [
    "df.head()"
   ]
  },
  {
   "cell_type": "code",
   "execution_count": 56,
   "id": "3afa9eb9",
   "metadata": {},
   "outputs": [
    {
     "name": "stdout",
     "output_type": "stream",
     "text": [
      "recommender_system_test    23909\n",
      "interface_eu_test              0\n",
      "Name: ab_test, dtype: int64\n",
      "2020-12-21 00:00:00\n",
      "2020-12-07 00:00:00\n",
      "EU           22674\n",
      "N.America      804\n",
      "APAC           225\n",
      "CIS            206\n",
      "Name: region, dtype: int64\n",
      "2020-12-07 00:05:57\n",
      "2020-12-30 12:42:57\n"
     ]
    }
   ],
   "source": [
    "# re-checking if resutling dataframe is correct and makes sense\n",
    "print(df['ab_test'].value_counts())\n",
    "print(df['first_date'].max())\n",
    "print(df['first_date'].min())\n",
    "print(df['region'].value_counts())\n",
    "print(df['event_dt'].min())\n",
    "print(df['event_dt'].max())"
   ]
  },
  {
   "cell_type": "code",
   "execution_count": 57,
   "id": "fbd61cdc",
   "metadata": {},
   "outputs": [],
   "source": [
    "# only keeping EU users\n",
    "df = df[df['region'] == 'EU']"
   ]
  },
  {
   "cell_type": "code",
   "execution_count": 58,
   "id": "49c018f6",
   "metadata": {
    "scrolled": true
   },
   "outputs": [],
   "source": [
    "# getting rid of redundant columns\n",
    "df = df.drop(['ab_test', 'region', 'device', 'details', 'hour'], axis=1)"
   ]
  },
  {
   "cell_type": "code",
   "execution_count": 59,
   "id": "c0e206db",
   "metadata": {},
   "outputs": [
    {
     "data": {
      "text/html": [
       "<div>\n",
       "<style scoped>\n",
       "    .dataframe tbody tr th:only-of-type {\n",
       "        vertical-align: middle;\n",
       "    }\n",
       "\n",
       "    .dataframe tbody tr th {\n",
       "        vertical-align: top;\n",
       "    }\n",
       "\n",
       "    .dataframe thead th {\n",
       "        text-align: right;\n",
       "    }\n",
       "</style>\n",
       "<table border=\"1\" class=\"dataframe\">\n",
       "  <thead>\n",
       "    <tr style=\"text-align: right;\">\n",
       "      <th></th>\n",
       "      <th>user_id</th>\n",
       "      <th>group</th>\n",
       "      <th>first_date</th>\n",
       "      <th>event_dt</th>\n",
       "      <th>event_name</th>\n",
       "    </tr>\n",
       "  </thead>\n",
       "  <tbody>\n",
       "    <tr>\n",
       "      <th>0</th>\n",
       "      <td>D1ABA3E2887B6A73</td>\n",
       "      <td>A</td>\n",
       "      <td>2020-12-07</td>\n",
       "      <td>2020-12-07 14:43:27</td>\n",
       "      <td>purchase</td>\n",
       "    </tr>\n",
       "    <tr>\n",
       "      <th>1</th>\n",
       "      <td>D1ABA3E2887B6A73</td>\n",
       "      <td>A</td>\n",
       "      <td>2020-12-07</td>\n",
       "      <td>2020-12-07 14:43:29</td>\n",
       "      <td>product_cart</td>\n",
       "    </tr>\n",
       "    <tr>\n",
       "      <th>2</th>\n",
       "      <td>D1ABA3E2887B6A73</td>\n",
       "      <td>A</td>\n",
       "      <td>2020-12-07</td>\n",
       "      <td>2020-12-07 14:43:27</td>\n",
       "      <td>product_page</td>\n",
       "    </tr>\n",
       "    <tr>\n",
       "      <th>3</th>\n",
       "      <td>D1ABA3E2887B6A73</td>\n",
       "      <td>A</td>\n",
       "      <td>2020-12-07</td>\n",
       "      <td>2020-12-07 14:43:27</td>\n",
       "      <td>login</td>\n",
       "    </tr>\n",
       "    <tr>\n",
       "      <th>4</th>\n",
       "      <td>A7A3664BD6242119</td>\n",
       "      <td>A</td>\n",
       "      <td>2020-12-20</td>\n",
       "      <td>2020-12-20 15:46:06</td>\n",
       "      <td>product_page</td>\n",
       "    </tr>\n",
       "  </tbody>\n",
       "</table>\n",
       "</div>"
      ],
      "text/plain": [
       "            user_id group first_date            event_dt    event_name\n",
       "0  D1ABA3E2887B6A73     A 2020-12-07 2020-12-07 14:43:27      purchase\n",
       "1  D1ABA3E2887B6A73     A 2020-12-07 2020-12-07 14:43:29  product_cart\n",
       "2  D1ABA3E2887B6A73     A 2020-12-07 2020-12-07 14:43:27  product_page\n",
       "3  D1ABA3E2887B6A73     A 2020-12-07 2020-12-07 14:43:27         login\n",
       "4  A7A3664BD6242119     A 2020-12-20 2020-12-20 15:46:06  product_page"
      ]
     },
     "execution_count": 59,
     "metadata": {},
     "output_type": "execute_result"
    }
   ],
   "source": [
    "# checking resulting df\n",
    "df.head()"
   ]
  },
  {
   "cell_type": "code",
   "execution_count": 60,
   "id": "145d7e90",
   "metadata": {},
   "outputs": [],
   "source": [
    "# ensuring to only keep customers who took action within first 14 days after signing up (as specified in techincal description)\n",
    "df['event_dt'] = df['event_dt'].dt.date\n",
    "df['first_date'] = df['first_date'].dt.date"
   ]
  },
  {
   "cell_type": "code",
   "execution_count": 61,
   "id": "b7904d62",
   "metadata": {},
   "outputs": [],
   "source": [
    "# create new column to check for the 14-days difference\n",
    "df['difference_signup_and_action'] = df['event_dt'].values - df['first_date'].values"
   ]
  },
  {
   "cell_type": "code",
   "execution_count": 62,
   "id": "79531c05",
   "metadata": {},
   "outputs": [
    {
     "data": {
      "text/plain": [
       "0 days     7719\n",
       "1 days     3559\n",
       "2 days     2451\n",
       "3 days     1712\n",
       "4 days     1217\n",
       "5 days     1068\n",
       "6 days      926\n",
       "7 days      853\n",
       "8 days      686\n",
       "9 days      524\n",
       "10 days     414\n",
       "12 days     336\n",
       "11 days     250\n",
       "13 days     237\n",
       "14 days     205\n",
       "15 days     156\n",
       "16 days      75\n",
       "17 days      67\n",
       "20 days      62\n",
       "19 days      54\n",
       "18 days      39\n",
       "21 days      31\n",
       "22 days      29\n",
       "23 days       4\n",
       "Name: difference_signup_and_action, dtype: int64"
      ]
     },
     "execution_count": 62,
     "metadata": {},
     "output_type": "execute_result"
    }
   ],
   "source": [
    "# see if there is anyone with more than 14 days \n",
    "df['difference_signup_and_action'].value_counts()"
   ]
  },
  {
   "cell_type": "code",
   "execution_count": 63,
   "id": "017d8d0c",
   "metadata": {},
   "outputs": [],
   "source": [
    "# get rid off customers with more than 14 days\n",
    "df = df[df['difference_signup_and_action'] < '15 days']"
   ]
  },
  {
   "cell_type": "code",
   "execution_count": 64,
   "id": "f64e5b8d",
   "metadata": {},
   "outputs": [
    {
     "data": {
      "text/plain": [
       "0 days     7719\n",
       "1 days     3559\n",
       "2 days     2451\n",
       "3 days     1712\n",
       "4 days     1217\n",
       "5 days     1068\n",
       "6 days      926\n",
       "7 days      853\n",
       "8 days      686\n",
       "9 days      524\n",
       "10 days     414\n",
       "12 days     336\n",
       "11 days     250\n",
       "13 days     237\n",
       "14 days     205\n",
       "Name: difference_signup_and_action, dtype: int64"
      ]
     },
     "execution_count": 64,
     "metadata": {},
     "output_type": "execute_result"
    }
   ],
   "source": [
    "#confirm\n",
    "df['difference_signup_and_action'].value_counts()"
   ]
  },
  {
   "cell_type": "code",
   "execution_count": 65,
   "id": "a0216d24",
   "metadata": {},
   "outputs": [],
   "source": [
    "# get rid off all date columns as there are no longer needed and irrelevant for the final A/B testing\n",
    "df = df.drop(['first_date', 'event_dt','difference_signup_and_action'], axis=1)"
   ]
  },
  {
   "cell_type": "markdown",
   "id": "b6799e00",
   "metadata": {},
   "source": [
    "## 4. A/B Testing"
   ]
  },
  {
   "cell_type": "code",
   "execution_count": 66,
   "id": "945a2de0",
   "metadata": {},
   "outputs": [
    {
     "data": {
      "text/html": [
       "<div>\n",
       "<style scoped>\n",
       "    .dataframe tbody tr th:only-of-type {\n",
       "        vertical-align: middle;\n",
       "    }\n",
       "\n",
       "    .dataframe tbody tr th {\n",
       "        vertical-align: top;\n",
       "    }\n",
       "\n",
       "    .dataframe thead th {\n",
       "        text-align: right;\n",
       "    }\n",
       "</style>\n",
       "<table border=\"1\" class=\"dataframe\">\n",
       "  <thead>\n",
       "    <tr style=\"text-align: right;\">\n",
       "      <th></th>\n",
       "      <th>user_id</th>\n",
       "      <th>group</th>\n",
       "      <th>event_name</th>\n",
       "    </tr>\n",
       "  </thead>\n",
       "  <tbody>\n",
       "    <tr>\n",
       "      <th>16767</th>\n",
       "      <td>A3AD6954A1CBD2AF</td>\n",
       "      <td>A</td>\n",
       "      <td>product_page</td>\n",
       "    </tr>\n",
       "    <tr>\n",
       "      <th>2711</th>\n",
       "      <td>5EC51E72CB294EC8</td>\n",
       "      <td>A</td>\n",
       "      <td>product_page</td>\n",
       "    </tr>\n",
       "    <tr>\n",
       "      <th>22009</th>\n",
       "      <td>60EA3F74525C4208</td>\n",
       "      <td>A</td>\n",
       "      <td>login</td>\n",
       "    </tr>\n",
       "    <tr>\n",
       "      <th>20291</th>\n",
       "      <td>AC4F0C6F72419245</td>\n",
       "      <td>A</td>\n",
       "      <td>purchase</td>\n",
       "    </tr>\n",
       "    <tr>\n",
       "      <th>22029</th>\n",
       "      <td>BBBFC0C64CC3C05D</td>\n",
       "      <td>A</td>\n",
       "      <td>product_page</td>\n",
       "    </tr>\n",
       "  </tbody>\n",
       "</table>\n",
       "</div>"
      ],
      "text/plain": [
       "                user_id group    event_name\n",
       "16767  A3AD6954A1CBD2AF     A  product_page\n",
       "2711   5EC51E72CB294EC8     A  product_page\n",
       "22009  60EA3F74525C4208     A         login\n",
       "20291  AC4F0C6F72419245     A      purchase\n",
       "22029  BBBFC0C64CC3C05D     A  product_page"
      ]
     },
     "execution_count": 66,
     "metadata": {},
     "output_type": "execute_result"
    }
   ],
   "source": [
    "# take a look at the final dataframe\n",
    "df.sample(5)"
   ]
  },
  {
   "cell_type": "markdown",
   "id": "5e16542d",
   "metadata": {},
   "source": [
    "##### 4.1 Testing for product page conversion"
   ]
  },
  {
   "cell_type": "markdown",
   "id": "c1f8c794",
   "metadata": {},
   "source": [
    "H0: control_group's product_page conversion >= experiment's group product_page conversion\n",
    "\n",
    "H1: control_group's product_page conversion < experiment's group product_page conversion"
   ]
  },
  {
   "cell_type": "code",
   "execution_count": 67,
   "id": "adba4e98",
   "metadata": {},
   "outputs": [
    {
     "data": {
      "text/plain": [
       "(0.285031938769638, 0.2589958158995816)"
      ]
     },
     "execution_count": 67,
     "metadata": {},
     "output_type": "execute_result"
    }
   ],
   "source": [
    "#splitting the groups and testing for product_page conversion\n",
    "control_pp= df.query('group == \"A\"')['event_name'].value_counts(normalize=True)[1]\n",
    "experiment_pp= df.query('group == \"B\"')['event_name'].value_counts(normalize=True)[1]\n",
    "control_pp, experiment_pp"
   ]
  },
  {
   "cell_type": "code",
   "execution_count": 68,
   "id": "f0149e49",
   "metadata": {},
   "outputs": [
    {
     "data": {
      "text/plain": [
       "-0.02603612287005641"
      ]
     },
     "execution_count": 68,
     "metadata": {},
     "output_type": "execute_result"
    }
   ],
   "source": [
    "#compute observed difference in product page conversion\n",
    "obs_diff_pp = experiment_pp - control_pp\n",
    "obs_diff_pp"
   ]
  },
  {
   "cell_type": "code",
   "execution_count": 69,
   "id": "6cc2ab2a",
   "metadata": {},
   "outputs": [],
   "source": [
    "#create sampling distribution of difference in product page conversion with bootstrapping\n",
    "diffs_pp = []\n",
    "size = df.shape[0]\n",
    "for i in range(1000):\n",
    "    sample = df.sample(size, replace=True)\n",
    "    control_pp_sample = sample.query('group == \"A\"')['event_name'].value_counts(normalize=True)[1]\n",
    "    experiment_pp_sample = sample.query('group == \"B\"')['event_name'].value_counts(normalize=True)[1]\n",
    "    diffs_pp.append(experiment_pp_sample - control_pp_sample)"
   ]
  },
  {
   "cell_type": "code",
   "execution_count": 70,
   "id": "80658589",
   "metadata": {},
   "outputs": [],
   "source": [
    "#convert to numpy array\n",
    "diffs_pp = np.array(diffs_pp)"
   ]
  },
  {
   "cell_type": "code",
   "execution_count": 71,
   "id": "5515439d",
   "metadata": {},
   "outputs": [
    {
     "data": {
      "image/png": "[encoded data removed]",
      "text/plain": [
       "<Figure size 432x288 with 1 Axes>"
      ]
     },
     "metadata": {
      "needs_background": "light"
     },
     "output_type": "display_data"
    }
   ],
   "source": [
    "# plot sampling distribution\n",
    "plt.hist(diffs_pp);"
   ]
  },
  {
   "cell_type": "code",
   "execution_count": 72,
   "id": "ae9a0cc4",
   "metadata": {},
   "outputs": [],
   "source": [
    "#simulating distribution under the null hypothesis\n",
    "null_vals_pp = np.random.normal(0, diffs_pp.std(), diffs_pp.size)"
   ]
  },
  {
   "cell_type": "code",
   "execution_count": 73,
   "id": "2f0ea3a6",
   "metadata": {},
   "outputs": [
    {
     "data": {
      "image/png": "[encoded data removed]",
      "text/plain": [
       "<Figure size 432x288 with 1 Axes>"
      ]
     },
     "metadata": {
      "needs_background": "light"
     },
     "output_type": "display_data"
    }
   ],
   "source": [
    "#plot null distribution\n",
    "plt.hist(null_vals_pp);\n",
    "\n",
    "#plot line for observed statistic\n",
    "plt.axvline(obs_diff_pp, c='red');"
   ]
  },
  {
   "cell_type": "code",
   "execution_count": 74,
   "id": "c3959348",
   "metadata": {},
   "outputs": [
    {
     "data": {
      "text/plain": [
       "1.0"
      ]
     },
     "execution_count": 74,
     "metadata": {},
     "output_type": "execute_result"
    }
   ],
   "source": [
    "# compute p value\n",
    "(null_vals_pp > obs_diff_pp).mean()"
   ]
  },
  {
   "cell_type": "markdown",
   "id": "667ed1ad",
   "metadata": {},
   "source": [
    "H0 can not be rejected! The new payment funnel seems to have a negative effect on conversion is not even close to increase conversion by 10% at this stage."
   ]
  },
  {
   "cell_type": "markdown",
   "id": "75253de0",
   "metadata": {},
   "source": [
    "##### 4.2 Testing for product cart conversion"
   ]
  },
  {
   "cell_type": "markdown",
   "id": "cb53a3a0",
   "metadata": {},
   "source": [
    "H0: control_group's product_cart conversion >= experiment's group product_cart conversion\n",
    "\n",
    "H1: control_group's product_cart conversion < experiment's group product_cart conversion"
   ]
  },
  {
   "cell_type": "code",
   "execution_count": 75,
   "id": "c2ca6f0d",
   "metadata": {},
   "outputs": [
    {
     "data": {
      "text/plain": [
       "(0.13327962248949762, 0.1294979079497908)"
      ]
     },
     "execution_count": 75,
     "metadata": {},
     "output_type": "execute_result"
    }
   ],
   "source": [
    "#splitting the groups and testing for product_cart conversion (note that the difference in index is due to the fact \n",
    "# that in the control group, we have more purchasing than product cart views)\n",
    "control_pc= df.query('group == \"A\"')['event_name'].value_counts(normalize=True)[3]\n",
    "experiment_pc= df.query('group == \"B\"')['event_name'].value_counts(normalize=True)[2]\n",
    "control_pc, experiment_pc"
   ]
  },
  {
   "cell_type": "code",
   "execution_count": 76,
   "id": "10745eaf",
   "metadata": {},
   "outputs": [
    {
     "data": {
      "text/plain": [
       "-0.0037817145397068264"
      ]
     },
     "execution_count": 76,
     "metadata": {},
     "output_type": "execute_result"
    }
   ],
   "source": [
    "#compute observed difference in product page conversion\n",
    "obs_diff_pc = experiment_pc - control_pc\n",
    "obs_diff_pc"
   ]
  },
  {
   "cell_type": "code",
   "execution_count": 77,
   "id": "e0965d96",
   "metadata": {},
   "outputs": [],
   "source": [
    "#create sampling distribution of difference in product cart conversion with bootstrapping\n",
    "diffs_pc = []\n",
    "size = df.shape[0]\n",
    "for i in range(1000):\n",
    "    sample = df.sample(size, replace=True)\n",
    "    control_pc_sample = sample.query('group == \"A\"')['event_name'].value_counts(normalize=True)[1]\n",
    "    experiment_pc_sample = sample.query('group == \"B\"')['event_name'].value_counts(normalize=True)[1]\n",
    "    diffs_pc.append(experiment_pc_sample - control_pc_sample)"
   ]
  },
  {
   "cell_type": "code",
   "execution_count": 78,
   "id": "76471653",
   "metadata": {},
   "outputs": [],
   "source": [
    "#convert to numpy array\n",
    "diffs_pc = np.array(diffs_pc)"
   ]
  },
  {
   "cell_type": "code",
   "execution_count": 79,
   "id": "dae0564c",
   "metadata": {},
   "outputs": [
    {
     "data": {
      "image/png": "[encoded data removed]",
      "text/plain": [
       "<Figure size 432x288 with 1 Axes>"
      ]
     },
     "metadata": {
      "needs_background": "light"
     },
     "output_type": "display_data"
    }
   ],
   "source": [
    "# plot sampling distribution\n",
    "plt.hist(diffs_pc);"
   ]
  },
  {
   "cell_type": "code",
   "execution_count": 80,
   "id": "1b41b8af",
   "metadata": {},
   "outputs": [],
   "source": [
    "#simulating distribution under the null hypothesis\n",
    "null_vals_pc = np.random.normal(0, diffs_pc.std(), diffs_pc.size)"
   ]
  },
  {
   "cell_type": "code",
   "execution_count": 81,
   "id": "b9e42e69",
   "metadata": {},
   "outputs": [
    {
     "data": {
      "image/png": "[encoded data removed]",
      "text/plain": [
       "<Figure size 432x288 with 1 Axes>"
      ]
     },
     "metadata": {
      "needs_background": "light"
     },
     "output_type": "display_data"
    }
   ],
   "source": [
    "#plot null distribution\n",
    "plt.hist(null_vals_pc);\n",
    "\n",
    "#plot line for observed statistic\n",
    "plt.axvline(obs_diff_pc, c='red');"
   ]
  },
  {
   "cell_type": "code",
   "execution_count": 82,
   "id": "d0016d6d",
   "metadata": {},
   "outputs": [
    {
     "data": {
      "text/plain": [
       "0.697"
      ]
     },
     "execution_count": 82,
     "metadata": {},
     "output_type": "execute_result"
    }
   ],
   "source": [
    "# compute p value\n",
    "(null_vals_pc > obs_diff_pc).mean()"
   ]
  },
  {
   "cell_type": "markdown",
   "id": "6704c04a",
   "metadata": {},
   "source": [
    "H0 can not be rejected! The new payment funnel seems to have a negative effect on conversion is not even close to increase conversion by 10% at this stage."
   ]
  },
  {
   "cell_type": "markdown",
   "id": "ea7046a0",
   "metadata": {},
   "source": [
    "##### 4.3 Testing for purchase conversion"
   ]
  },
  {
   "cell_type": "markdown",
   "id": "4dfb5681",
   "metadata": {},
   "source": [
    "H0: control_group's purchase conversion >= experiment's group purchase conversion\n",
    "\n",
    "H1: control_group's purchase conversion < experiment's group purchase conversion"
   ]
  },
  {
   "cell_type": "code",
   "execution_count": 83,
   "id": "8b725b3b",
   "metadata": {},
   "outputs": [
    {
     "data": {
      "text/plain": [
       "(0.13822869310007482, 0.12887029288702928)"
      ]
     },
     "execution_count": 83,
     "metadata": {},
     "output_type": "execute_result"
    }
   ],
   "source": [
    "#splitting the groups and testing for purchase conversion (note that the difference in index is due to the fact \n",
    "# that in the control group, we have more purchasing than product cart views)\n",
    "control_pu= df.query('group == \"A\"')['event_name'].value_counts(normalize=True)[2]\n",
    "experiment_pu= df.query('group == \"B\"')['event_name'].value_counts(normalize=True)[3]\n",
    "control_pu, experiment_pu"
   ]
  },
  {
   "cell_type": "code",
   "execution_count": 84,
   "id": "5e0437af",
   "metadata": {},
   "outputs": [
    {
     "data": {
      "text/plain": [
       "-0.009358400213045542"
      ]
     },
     "execution_count": 84,
     "metadata": {},
     "output_type": "execute_result"
    }
   ],
   "source": [
    "#compute observed difference in product page conversion\n",
    "obs_diff_pu = experiment_pu - control_pu\n",
    "obs_diff_pu"
   ]
  },
  {
   "cell_type": "code",
   "execution_count": 85,
   "id": "7d4fe740",
   "metadata": {},
   "outputs": [],
   "source": [
    "#create sampling distribution of difference in purchase conversion with bootstrapping\n",
    "diffs_pu = []\n",
    "size = df.shape[0]\n",
    "for i in range(1000):\n",
    "    sample = df.sample(size, replace=True)\n",
    "    control_pu_sample = sample.query('group == \"A\"')['event_name'].value_counts(normalize=True)[1]\n",
    "    experiment_pu_sample = sample.query('group == \"B\"')['event_name'].value_counts(normalize=True)[1]\n",
    "    diffs_pu.append(experiment_pu_sample - control_pu_sample)"
   ]
  },
  {
   "cell_type": "code",
   "execution_count": 86,
   "id": "6c9db7c9",
   "metadata": {},
   "outputs": [],
   "source": [
    "#convert to numpy array\n",
    "diffs_pu = np.array(diffs_pu)"
   ]
  },
  {
   "cell_type": "code",
   "execution_count": 87,
   "id": "f4ee84af",
   "metadata": {},
   "outputs": [
    {
     "data": {
      "image/png": "[encoded data removed]",
      "text/plain": [
       "<Figure size 432x288 with 1 Axes>"
      ]
     },
     "metadata": {
      "needs_background": "light"
     },
     "output_type": "display_data"
    }
   ],
   "source": [
    "# plot sampling distribution\n",
    "plt.hist(diffs_pu);"
   ]
  },
  {
   "cell_type": "code",
   "execution_count": 88,
   "id": "a930e747",
   "metadata": {},
   "outputs": [],
   "source": [
    "#simulating distribution under the null hypothesis\n",
    "null_vals_pu = np.random.normal(0, diffs_pu.std(), diffs_pu.size)"
   ]
  },
  {
   "cell_type": "code",
   "execution_count": 89,
   "id": "e7efa09c",
   "metadata": {},
   "outputs": [
    {
     "data": {
      "image/png": "[encoded data removed]",
      "text/plain": [
       "<Figure size 432x288 with 1 Axes>"
      ]
     },
     "metadata": {
      "needs_background": "light"
     },
     "output_type": "display_data"
    }
   ],
   "source": [
    "#plot null distribution\n",
    "plt.hist(null_vals_pu);\n",
    "\n",
    "#plot line for observed statistic\n",
    "plt.axvline(obs_diff_pu, c='red');"
   ]
  },
  {
   "cell_type": "code",
   "execution_count": 90,
   "id": "57de46f5",
   "metadata": {},
   "outputs": [
    {
     "data": {
      "text/plain": [
       "0.894"
      ]
     },
     "execution_count": 90,
     "metadata": {},
     "output_type": "execute_result"
    }
   ],
   "source": [
    "# compute p value\n",
    "(null_vals_pu > obs_diff_pu).mean()"
   ]
  },
  {
   "cell_type": "markdown",
   "id": "c1b7450b",
   "metadata": {},
   "source": [
    "H0 can not be rejected! The new payment funnel seems to have a negative effect on conversion is not even close to increase conversion by 10% at this stage."
   ]
  },
  {
   "cell_type": "markdown",
   "id": "efc0d505",
   "metadata": {},
   "source": [
    "## 5. Conclusions and Evaluation"
   ]
  },
  {
   "cell_type": "markdown",
   "id": "4ec4f71d",
   "metadata": {},
   "source": [
    "Wow, that were some messy but also interesting and challenging datasets. It really seems that our new watermelon farmers left right in the middle of the test precedure. Eventhough there was almost no missing data and no important duplicates, I still had to make lots of assumptions, especially with regard to the final A/B testing results.\n",
    "I have finally decided to not include the marekting events in any of the A/B testing because there was too much uncertainty about other parts. The participants table included two different tests, the recommender_system_test (as indicated in the technical description) and the eu_interface_test. This second test incorporated a much larger sample size than the recommendation test, but as there was given no context, it would have been negligent to use the interface_eu_test data just to get a larger sample size.\n",
    "\n",
    "The expected number of participants of 6000 couldn't be met because some filtering was necessary in order to include some other specifications (e.g. only EU-members, only 14 days after sign-up etc.).\n",
    "\n",
    "The final A/B test results were very clear. The new payment channel of the experiment group B couldn't help to increase conversion and even made it worse.\n",
    "If I remember correctly, I should have also included some methods like the Bonfferoni correction in order to make up for the fact that we analyzed 3 different metrics but this wouldn't have helped to achieve more significant results.\n",
    "\n",
    "All in all, still a very interesting task with many possible solutions in my opinion. It really depends on the assumptions and the consistency."
   ]
  },
  {
   "cell_type": "code",
   "execution_count": null,
   "id": "62f4d08a",
   "metadata": {},
   "outputs": [],
   "source": []
  }
 ],
 "metadata": {
  "kernelspec": {
   "display_name": "Python 3 (ipykernel)",
   "language": "python",
   "name": "python3"
  },
  "language_info": {
   "codemirror_mode": {
    "name": "ipython",
    "version": 3
   },
   "file_extension": ".py",
   "mimetype": "text/x-python",
   "name": "python",
   "nbconvert_exporter": "python",
   "pygments_lexer": "ipython3",
   "version": "3.9.12"
  }
 },
 "nbformat": 4,
 "nbformat_minor": 5
}
